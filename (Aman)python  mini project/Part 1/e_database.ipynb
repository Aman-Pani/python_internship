{
 "cells": [
  {
   "cell_type": "code",
   "execution_count": null,
   "id": "5de5a9aa",
   "metadata": {},
   "outputs": [],
   "source": [
    "from mini_pro import employee_database as ed\n",
    "while(1):\n",
    "    b=int(input('1-> Add employee\\n2-> Add hr\\n3-> Search employee\\n4-> Search hr\\n5-> Exit\\n'))\n",
    "    if  (b==1):ed.add_employee()\n",
    "    elif(b==2):ed.add_hr()\n",
    "    elif(b==3):ed.search_employee()\n",
    "    elif(b==4):ed.search_hr()\n",
    "    elif(b==5):break\n",
    "    else      :print('WRONG INPUT')"
   ]
  }
 ],
 "metadata": {
  "kernelspec": {
   "display_name": "Python 3",
   "language": "python",
   "name": "python3"
  },
  "language_info": {
   "codemirror_mode": {
    "name": "ipython",
    "version": 3
   },
   "file_extension": ".py",
   "mimetype": "text/x-python",
   "name": "python",
   "nbconvert_exporter": "python",
   "pygments_lexer": "ipython3",
   "version": "3.8.8"
  }
 },
 "nbformat": 4,
 "nbformat_minor": 5
}
