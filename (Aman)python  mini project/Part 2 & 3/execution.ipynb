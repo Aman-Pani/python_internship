{
 "cells": [
  {
   "cell_type": "code",
   "execution_count": null,
   "id": "11c94561",
   "metadata": {},
   "outputs": [
    {
     "name": "stdout",
     "output_type": "stream",
     "text": [
      "***Welcome to Employee System***\n",
      "Please enter your Login ID =>ep2\n",
      "Please enter your passwod =>········\n",
      "Enter the id again: ep2\n",
      "Welcome [naman p] ...!!\n",
      " Enter 1 to view own details\n",
      " Enter 2 to view all HR names\n",
      " Enter q to exit\n",
      "   Enter your choice: 1\n",
      "ep2\tnaman p\tWed Sep  1 10:24:16 2021\tv.manager\t5000\n",
      "\n"
     ]
    }
   ],
   "source": [
    "import login"
   ]
  },
  {
   "cell_type": "code",
   "execution_count": null,
   "id": "595493e6",
   "metadata": {},
   "outputs": [],
   "source": []
  }
 ],
 "metadata": {
  "kernelspec": {
   "display_name": "Python 3",
   "language": "python",
   "name": "python3"
  },
  "language_info": {
   "codemirror_mode": {
    "name": "ipython",
    "version": 3
   },
   "file_extension": ".py",
   "mimetype": "text/x-python",
   "name": "python",
   "nbconvert_exporter": "python",
   "pygments_lexer": "ipython3",
   "version": "3.8.8"
  }
 },
 "nbformat": 4,
 "nbformat_minor": 5
}
