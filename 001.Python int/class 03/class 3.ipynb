{
 "cells": [
  {
   "cell_type": "markdown",
   "id": "815617b0",
   "metadata": {},
   "source": [
    "# class 3\n"
   ]
  },
  {
   "cell_type": "markdown",
   "id": "146ae586",
   "metadata": {},
   "source": [
    "# string"
   ]
  },
  {
   "cell_type": "code",
   "execution_count": 1,
   "id": "13e50006",
   "metadata": {},
   "outputs": [],
   "source": [
    "a='abcdefg'"
   ]
  },
  {
   "cell_type": "code",
   "execution_count": 2,
   "id": "eebb2bad",
   "metadata": {},
   "outputs": [
    {
     "name": "stdout",
     "output_type": "stream",
     "text": [
      "a\n",
      "d\n"
     ]
    }
   ],
   "source": [
    "print(a[0])\n",
    "print(a[3])"
   ]
  },
  {
   "cell_type": "code",
   "execution_count": 33,
   "id": "ce8ddb1c",
   "metadata": {},
   "outputs": [
    {
     "name": "stdout",
     "output_type": "stream",
     "text": [
      "['w', 'e', 'r', '1', '2', '3']\n",
      "['how', 'are', 'you', '?']\n"
     ]
    }
   ],
   "source": [
    "a='w,e,r,1,2,3'\n",
    "print(a.split(','))\n",
    "b='how are you ?'\n",
    "print(b.split(' '))"
   ]
  },
  {
   "cell_type": "code",
   "execution_count": 9,
   "id": "dc02831b",
   "metadata": {},
   "outputs": [
    {
     "name": "stdout",
     "output_type": "stream",
     "text": [
      "['w', 'r', 'y', '2', '5']\n"
     ]
    }
   ],
   "source": [
    "a='w-r-y-2-5'\n",
    "print(a.split('-'))"
   ]
  },
  {
   "cell_type": "code",
   "execution_count": 10,
   "id": "49c6b967",
   "metadata": {},
   "outputs": [
    {
     "name": "stdout",
     "output_type": "stream",
     "text": [
      "True\n",
      "False\n"
     ]
    }
   ],
   "source": [
    "a='cjdk-'\n",
    "print(a.endswith('-'))\n",
    "print(a.endswith('.'))"
   ]
  },
  {
   "cell_type": "code",
   "execution_count": 13,
   "id": "4d2bea63",
   "metadata": {},
   "outputs": [
    {
     "name": "stdout",
     "output_type": "stream",
     "text": [
      "True\n",
      "True\n",
      "False\n"
     ]
    }
   ],
   "source": [
    "a='a'\n",
    "print(a.isalnum())      #isalnum => [0-9 & a-z]\n",
    "a='1'\n",
    "print(a.isalnum())\n",
    "a='-'\n",
    "print(a.isalnum())"
   ]
  },
  {
   "cell_type": "code",
   "execution_count": 2,
   "id": "7cea792b",
   "metadata": {
    "scrolled": true
   },
   "outputs": [
    {
     "name": "stdout",
     "output_type": "stream",
     "text": [
      "True\n"
     ]
    }
   ],
   "source": [
    "a='a0b'\n",
    "print(a.isalnum())"
   ]
  },
  {
   "cell_type": "code",
   "execution_count": 23,
   "id": "8eafa3cf",
   "metadata": {
    "scrolled": true
   },
   "outputs": [
    {
     "name": "stdout",
     "output_type": "stream",
     "text": [
      "True\n",
      "False\n",
      "True\n",
      "False\n"
     ]
    }
   ],
   "source": [
    "a='a'\n",
    "print(a.islower())\n",
    "a='a'\n",
    "print(a.isupper())\n",
    "a='A'\n",
    "print(a.isupper())\n",
    "a='A'\n",
    "print(a.islower())"
   ]
  },
  {
   "cell_type": "code",
   "execution_count": 4,
   "id": "68473370",
   "metadata": {},
   "outputs": [
    {
     "name": "stdout",
     "output_type": "stream",
     "text": [
      "True\n"
     ]
    }
   ],
   "source": [
    "a='1'\n",
    "print(a.isnumeric())"
   ]
  },
  {
   "cell_type": "code",
   "execution_count": 5,
   "id": "b7877e7e",
   "metadata": {},
   "outputs": [
    {
     "name": "stdout",
     "output_type": "stream",
     "text": [
      "True\n"
     ]
    }
   ],
   "source": [
    "a=' '\n",
    "print(a.isspace())"
   ]
  },
  {
   "cell_type": "code",
   "execution_count": 6,
   "id": "5b29055a",
   "metadata": {},
   "outputs": [
    {
     "name": "stdout",
     "output_type": "stream",
     "text": [
      "a-m-a-n\n"
     ]
    }
   ],
   "source": [
    "a='-'.join('aman')\n",
    "print(a)"
   ]
  },
  {
   "cell_type": "code",
   "execution_count": 31,
   "id": "772b13cc",
   "metadata": {},
   "outputs": [
    {
     "name": "stdout",
     "output_type": "stream",
     "text": [
      "aman\n",
      "AMAN\n"
     ]
    }
   ],
   "source": [
    "a='AmAn'\n",
    "a=a.lower()\n",
    "print(a)\n",
    "a=a.upper()\n",
    "print(a)"
   ]
  },
  {
   "cell_type": "code",
   "execution_count": 35,
   "id": "01905643",
   "metadata": {},
   "outputs": [
    {
     "name": "stdout",
     "output_type": "stream",
     "text": [
      "bmbn\n"
     ]
    }
   ],
   "source": [
    "a='aman'\n",
    "a=a.replace('a','b')\n",
    "print(a)"
   ]
  },
  {
   "cell_type": "code",
   "execution_count": 8,
   "id": "10c98d69",
   "metadata": {},
   "outputs": [
    {
     "name": "stdout",
     "output_type": "stream",
     "text": [
      "wam ahjs  \n",
      "   wam ahjs\n",
      "wam ahjs\n"
     ]
    }
   ],
   "source": [
    "a='   wam ahjs  '\n",
    "print(a.lstrip())\n",
    "print(a.rstrip())\n",
    "print(a.strip())"
   ]
  },
  {
   "cell_type": "code",
   "execution_count": 37,
   "id": "77764978",
   "metadata": {},
   "outputs": [
    {
     "name": "stdout",
     "output_type": "stream",
     "text": [
      "aMAn\n"
     ]
    }
   ],
   "source": [
    "a='AmaN'\n",
    "print(a.swapcase())"
   ]
  },
  {
   "cell_type": "code",
   "execution_count": 40,
   "id": "f01641ab",
   "metadata": {},
   "outputs": [
    {
     "name": "stdout",
     "output_type": "stream",
     "text": [
      "1 , True\n",
      "e , False\n",
      "3 , True\n",
      "r , False\n",
      "4 , True\n",
      "5 , True\n",
      "5 , True\n",
      "5\n"
     ]
    }
   ],
   "source": [
    "a='1e3r455'\n",
    "count=0\n",
    "for i in a:\n",
    "    print(i,',',i.isdigit())\n",
    "    if i.isdigit():\n",
    "        count +=1\n",
    "print(count)"
   ]
  },
  {
   "cell_type": "markdown",
   "id": "0a244e2e",
   "metadata": {},
   "source": [
    "# packing & unpacking"
   ]
  },
  {
   "cell_type": "code",
   "execution_count": 42,
   "id": "c0e459f0",
   "metadata": {},
   "outputs": [
    {
     "name": "stdout",
     "output_type": "stream",
     "text": [
      "2 3 4\n",
      "3\n"
     ]
    }
   ],
   "source": [
    "a,b,c=(2,3,4)\n",
    "print(a,b,c)\n",
    "print(b)"
   ]
  },
  {
   "cell_type": "code",
   "execution_count": 43,
   "id": "01aa95f7",
   "metadata": {},
   "outputs": [
    {
     "ename": "ValueError",
     "evalue": "too many values to unpack (expected 2)",
     "output_type": "error",
     "traceback": [
      "\u001b[1;31m---------------------------------------------------------------------------\u001b[0m",
      "\u001b[1;31mValueError\u001b[0m                                Traceback (most recent call last)",
      "\u001b[1;32m<ipython-input-43-8e9976bdb8fe>\u001b[0m in \u001b[0;36m<module>\u001b[1;34m\u001b[0m\n\u001b[1;32m----> 1\u001b[1;33m \u001b[0ma\u001b[0m\u001b[1;33m,\u001b[0m\u001b[0mb\u001b[0m\u001b[1;33m=\u001b[0m\u001b[1;33m(\u001b[0m\u001b[1;36m2\u001b[0m\u001b[1;33m,\u001b[0m\u001b[1;36m3\u001b[0m\u001b[1;33m,\u001b[0m\u001b[1;36m4\u001b[0m\u001b[1;33m)\u001b[0m\u001b[1;33m\u001b[0m\u001b[1;33m\u001b[0m\u001b[0m\n\u001b[0m\u001b[0;32m      2\u001b[0m \u001b[0mprint\u001b[0m\u001b[1;33m(\u001b[0m\u001b[0ma\u001b[0m\u001b[1;33m)\u001b[0m\u001b[1;33m\u001b[0m\u001b[1;33m\u001b[0m\u001b[0m\n",
      "\u001b[1;31mValueError\u001b[0m: too many values to unpack (expected 2)"
     ]
    }
   ],
   "source": [
    "a,b=(2,3,4)\n",
    "print(a)"
   ]
  },
  {
   "cell_type": "code",
   "execution_count": 44,
   "id": "72bbe1c3",
   "metadata": {},
   "outputs": [
    {
     "ename": "ValueError",
     "evalue": "not enough values to unpack (expected 3, got 2)",
     "output_type": "error",
     "traceback": [
      "\u001b[1;31m---------------------------------------------------------------------------\u001b[0m",
      "\u001b[1;31mValueError\u001b[0m                                Traceback (most recent call last)",
      "\u001b[1;32m<ipython-input-44-b2454f6fc19a>\u001b[0m in \u001b[0;36m<module>\u001b[1;34m\u001b[0m\n\u001b[1;32m----> 1\u001b[1;33m \u001b[0ma\u001b[0m\u001b[1;33m,\u001b[0m\u001b[0mb\u001b[0m\u001b[1;33m,\u001b[0m\u001b[0mc\u001b[0m\u001b[1;33m=\u001b[0m\u001b[1;33m(\u001b[0m\u001b[1;36m2\u001b[0m\u001b[1;33m,\u001b[0m\u001b[1;36m3\u001b[0m\u001b[1;33m)\u001b[0m\u001b[1;33m\u001b[0m\u001b[1;33m\u001b[0m\u001b[0m\n\u001b[0m\u001b[0;32m      2\u001b[0m \u001b[0mprint\u001b[0m\u001b[1;33m(\u001b[0m\u001b[0mb\u001b[0m\u001b[1;33m)\u001b[0m\u001b[1;33m\u001b[0m\u001b[1;33m\u001b[0m\u001b[0m\n",
      "\u001b[1;31mValueError\u001b[0m: not enough values to unpack (expected 3, got 2)"
     ]
    }
   ],
   "source": [
    "a,b,c=(2,3)\n",
    "print(b)"
   ]
  },
  {
   "cell_type": "markdown",
   "id": "3711fce7",
   "metadata": {},
   "source": [
    "# variables"
   ]
  },
  {
   "cell_type": "code",
   "execution_count": 46,
   "id": "67c0c757",
   "metadata": {},
   "outputs": [
    {
     "name": "stdout",
     "output_type": "stream",
     "text": [
      "<class 'str'>\n",
      "<class 'int'>\n"
     ]
    }
   ],
   "source": [
    "a='10'\n",
    "A=int(a)\n",
    "print(type(a))\n",
    "print(type(A))"
   ]
  },
  {
   "cell_type": "code",
   "execution_count": 47,
   "id": "7f47139e",
   "metadata": {},
   "outputs": [],
   "source": [
    "my_name = 'Aman'  #address_of_person  #snake_case\n",
    "myName  = \"Aman\"  #addressOfPerson"
   ]
  },
  {
   "cell_type": "code",
   "execution_count": 15,
   "id": "493061b4",
   "metadata": {
    "scrolled": true
   },
   "outputs": [
    {
     "name": "stdout",
     "output_type": "stream",
     "text": [
      "Enter a string => aman ranjan\n",
      "['aman', 'ranjan']\n",
      "AmAn rAnJaN"
     ]
    }
   ],
   "source": [
    "#capitalize the odd string\n",
    "a=str(input(\"Enter a string => \"))\n",
    "print(a.split(' '))\n",
    "for i in range(0,len(a)):\n",
    "    if (i% 2)== 0:\n",
    "        print(a[i].upper(),end=\"\")\n",
    "    else:\n",
    "        print(a[i],end=\"\")"
   ]
  },
  {
   "cell_type": "code",
   "execution_count": 14,
   "id": "74257fbc",
   "metadata": {
    "scrolled": true
   },
   "outputs": [
    {
     "name": "stdout",
     "output_type": "stream",
     "text": [
      "2\n",
      "3\n",
      "5\n",
      "7\n",
      "11\n",
      "13\n",
      "17\n",
      "19\n",
      "23\n",
      "29\n",
      "31\n",
      "37\n",
      "41\n",
      "43\n",
      "47\n"
     ]
    }
   ],
   "source": [
    "#getting prime nos between 1-50\n",
    "a=1\n",
    "b=50\n",
    "for num in range(a,b+1):\n",
    "    if num>1 :\n",
    "        for i in range(2,num):\n",
    "            if(num %i )==0:\n",
    "                 break\n",
    "        else:\n",
    "            print(num)"
   ]
  },
  {
   "cell_type": "code",
   "execution_count": 14,
   "id": "85b30e28",
   "metadata": {},
   "outputs": [
    {
     "name": "stdout",
     "output_type": "stream",
     "text": [
      " Enter a string: aman pani\n",
      "Consonants in string are :\n",
      "m n   p n "
     ]
    }
   ],
   "source": [
    "#printing consonant in a string\n",
    "a=input(\"Enter a string: \")\n",
    "print(\"Consonants in string are :\")\n",
    "for i in range (len(a)):\n",
    "    if   a[i]=='a'or a[i]=='A':continue\n",
    "    elif a[i]=='e'or a[i]=='E':continue \n",
    "    elif a[i]=='i'or a[i]=='I':continue\n",
    "    elif a[i]=='o'or a[i]=='O':continue\n",
    "    elif a[i]=='u'or a[i]=='U':continue\n",
    "    else :\n",
    "        print(a[i],end =\" \")"
   ]
  },
  {
   "cell_type": "code",
   "execution_count": 29,
   "id": "c268c7e9",
   "metadata": {},
   "outputs": [
    {
     "name": "stdout",
     "output_type": "stream",
     "text": [
      "Enter the number of rows :: 3\n",
      "   * \n",
      "  * * \n",
      " * * * \n"
     ]
    }
   ],
   "source": [
    "#pyramid pattern \n",
    "n = int(input(\"Enter the number of rows :: \"))\n",
    "space = n-1\n",
    "for i in range(1,n+1) :\n",
    "    print(\" \" * space,end = \" \")\n",
    "    print(\"* \" * i)\n",
    "    space-= 1"
   ]
  },
  {
   "cell_type": "code",
   "execution_count": 18,
   "id": "5b0850b8",
   "metadata": {},
   "outputs": [
    {
     "name": "stdout",
     "output_type": "stream",
     "text": [
      "True\n"
     ]
    }
   ],
   "source": [
    "a='_a5d'\n",
    "print(a.isidentifier())   #identifiers contain no.s,'_',letters\n",
    "                          #starts with '_' &  alphabet"
   ]
  },
  {
   "cell_type": "code",
   "execution_count": null,
   "id": "4ab1bedc",
   "metadata": {},
   "outputs": [],
   "source": []
  }
 ],
 "metadata": {
  "kernelspec": {
   "display_name": "Python 3",
   "language": "python",
   "name": "python3"
  },
  "language_info": {
   "codemirror_mode": {
    "name": "ipython",
    "version": 3
   },
   "file_extension": ".py",
   "mimetype": "text/x-python",
   "name": "python",
   "nbconvert_exporter": "python",
   "pygments_lexer": "ipython3",
   "version": "3.8.8"
  }
 },
 "nbformat": 4,
 "nbformat_minor": 5
}
