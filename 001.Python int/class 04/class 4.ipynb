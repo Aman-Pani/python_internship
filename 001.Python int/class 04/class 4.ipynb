{
 "cells": [
  {
   "cell_type": "markdown",
   "id": "b2a14aa7",
   "metadata": {},
   "source": [
    "# class 4"
   ]
  },
  {
   "cell_type": "code",
   "execution_count": null,
   "id": "353f881c",
   "metadata": {},
   "outputs": [],
   "source": [
    "#if\n",
    "#if else\n",
    "#nested if\n",
    "#if else if\n",
    "#while else\n",
    "#for loop\n",
    "#nested for\n",
    "#nested while\n",
    "#loop & condition\n"
   ]
  }
 ],
 "metadata": {
  "kernelspec": {
   "display_name": "Python 3",
   "language": "python",
   "name": "python3"
  },
  "language_info": {
   "codemirror_mode": {
    "name": "ipython",
    "version": 3
   },
   "file_extension": ".py",
   "mimetype": "text/x-python",
   "name": "python",
   "nbconvert_exporter": "python",
   "pygments_lexer": "ipython3",
   "version": "3.8.8"
  }
 },
 "nbformat": 4,
 "nbformat_minor": 5
}
