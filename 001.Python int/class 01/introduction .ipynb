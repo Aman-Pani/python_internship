{
 "cells": [
  {
   "cell_type": "markdown",
   "id": "de26a09b",
   "metadata": {},
   "source": [
    "# class 1"
   ]
  },
  {
   "cell_type": "code",
   "execution_count": 1,
   "id": "26504dc0",
   "metadata": {},
   "outputs": [
    {
     "name": "stdout",
     "output_type": "stream",
     "text": [
      "hello\n"
     ]
    }
   ],
   "source": [
    "print(\"hello\")"
   ]
  },
  {
   "cell_type": "markdown",
   "id": "df6b1b3b",
   "metadata": {},
   "source": [
    "# sum of two numbers"
   ]
  },
  {
   "cell_type": "code",
   "execution_count": 2,
   "id": "e63359f0",
   "metadata": {},
   "outputs": [
    {
     "name": "stdout",
     "output_type": "stream",
     "text": [
      "a=12\n",
      "b=3\n",
      "sum=> 15\n",
      "15\n"
     ]
    }
   ],
   "source": [
    "a = int(input(\"a=\"))\n",
    "b = int(input(\"b=\"))     \n",
    "print(\"sum=>\",a+b)\n",
    "print(a+b)"
   ]
  },
  {
   "cell_type": "markdown",
   "id": "5f482b0a",
   "metadata": {},
   "source": [
    "# area & perimeter of circle"
   ]
  },
  {
   "cell_type": "code",
   "execution_count": 13,
   "id": "f1ace8fe",
   "metadata": {
    "scrolled": true
   },
   "outputs": [
    {
     "name": "stdout",
     "output_type": "stream",
     "text": [
      "area=>  314.0\n",
      "area=>  314.1592653589793\n",
      "area=>  314.16\n",
      "perimeter=>  62.800000000000004\n",
      "pi=3.14,r=10,area=314.0\n",
      "pi=3.14,r=10,perimeter=62.800000000000004\n"
     ]
    }
   ],
   "source": [
    "#import math\n",
    "pi=3.14\n",
    "r=10\n",
    "area=pi*r*r\n",
    "are =math.pi*pow(r,2)\n",
    "perimeter=2*pi*r\n",
    "print(\"area=> \",area)\n",
    "print(\"area=> \",are)\n",
    "print(\"area=>  %.2f\"%are)\n",
    "print(\"perimeter=> \",perimeter)\n",
    "print(\"pi={},r={},area={}\".format(pi,r,area))\n",
    "print(f\"pi={pi},r={r},perimeter={perimeter}\")"
   ]
  },
  {
   "cell_type": "code",
   "execution_count": 10,
   "id": "e0102b6f",
   "metadata": {},
   "outputs": [
    {
     "name": "stdout",
     "output_type": "stream",
     "text": [
      "23.74849\n"
     ]
    }
   ],
   "source": [
    "print(\"%.5f\"%(23.748487383))"
   ]
  },
  {
   "cell_type": "markdown",
   "id": "cb12e285",
   "metadata": {},
   "source": [
    "# int_flot_complex_string"
   ]
  },
  {
   "cell_type": "code",
   "execution_count": 11,
   "id": "71dbc1c2",
   "metadata": {},
   "outputs": [
    {
     "name": "stdout",
     "output_type": "stream",
     "text": [
      "10 <class 'int'>\n",
      "10.1 <class 'float'>\n",
      "1 <class 'str'>\n",
      "abcd is not a word <class 'str'>\n",
      "1 <class 'int'>\n",
      "(-2.8644000000000003+0j) <class 'complex'>\n"
     ]
    }
   ],
   "source": [
    "a=10\n",
    "b=10.1\n",
    "c= '1'\n",
    "d= 'abcd is not a word'\n",
    "e= int(c)\n",
    "f=1.86j*1.54j\n",
    "print(a,type(a))\n",
    "print(b,type(b))\n",
    "print(c,type(c))\n",
    "print(d,type(d))\n",
    "print(e,type(e))\n",
    "print(f,type(f))"
   ]
  },
  {
   "cell_type": "markdown",
   "id": "90a88020",
   "metadata": {},
   "source": [
    "# use of math module"
   ]
  },
  {
   "cell_type": "code",
   "execution_count": 43,
   "id": "55997ecb",
   "metadata": {},
   "outputs": [
    {
     "data": {
      "text/plain": [
       "4.0"
      ]
     },
     "execution_count": 43,
     "metadata": {},
     "output_type": "execute_result"
    }
   ],
   "source": [
    "#import math\n",
    "math.sqrt(16)\n",
    "\n",
    "#from math import sqrt\n",
    "#sqrt(16)\n",
    "\n",
    "#from math import sqrt as sq\n",
    "#sq(16)"
   ]
  },
  {
   "cell_type": "code",
   "execution_count": 16,
   "id": "10da389c",
   "metadata": {},
   "outputs": [
    {
     "data": {
      "text/plain": [
       "64.0"
      ]
     },
     "execution_count": 16,
     "metadata": {},
     "output_type": "execute_result"
    }
   ],
   "source": [
    "#import math\n",
    "math.pow(8,2)"
   ]
  },
  {
   "cell_type": "code",
   "execution_count": 18,
   "id": "025b497f",
   "metadata": {},
   "outputs": [
    {
     "name": "stdout",
     "output_type": "stream",
     "text": [
      "1\n",
      "2\n",
      "3\n",
      "4\n",
      "5\n",
      "6\n",
      "7\n",
      "8\n",
      "9\n",
      " 1  2  3  4  5  6  7  8  9  \n"
     ]
    }
   ],
   "source": [
    "#range(start,end,step)   {step -> difference}\n",
    "#range=>  [start-> (end-1)]\n",
    "s=' '\n",
    "for i in range(1,10,1):\n",
    "    print(i)\n",
    "    s=s+str(i)+'  '\n",
    "print(s)"
   ]
  },
  {
   "cell_type": "code",
   "execution_count": 20,
   "id": "d41135cd",
   "metadata": {},
   "outputs": [
    {
     "name": "stdout",
     "output_type": "stream",
     "text": [
      "a=21\n",
      "21\n",
      "21 in if\n"
     ]
    }
   ],
   "source": [
    "#and is && in C\n",
    "#or is || in C\n",
    "a=int(input('a='))\n",
    "if  (a < 20) or (a>20):\n",
    "    print(a)\n",
    "    print(a,\"in if\")\n",
    "elif a==20:\n",
    "    print(a+1)\n",
    "    print(a,\"in elif\")\n",
    "else:\n",
    "    print(a,\"in else\")"
   ]
  },
  {
   "cell_type": "code",
   "execution_count": 68,
   "id": "4f54ae04",
   "metadata": {},
   "outputs": [
    {
     "data": {
      "text/plain": [
       "'1020'"
      ]
     },
     "execution_count": 68,
     "metadata": {},
     "output_type": "execute_result"
    }
   ],
   "source": [
    "a='10'\n",
    "b='20'\n",
    "a+b    #string concatination\n"
   ]
  },
  {
   "cell_type": "code",
   "execution_count": 73,
   "id": "859cd77e",
   "metadata": {},
   "outputs": [
    {
     "name": "stdout",
     "output_type": "stream",
     "text": [
      "\n",
      "1 \n",
      "1 2 \n",
      "1 2 3 \n",
      "1 2 3 4 \n",
      "1 2 3 4 5 \n",
      "1 2 3 4 5 6 \n",
      "1 2 3 4 5 6 7 \n",
      "1 2 3 4 5 6 7 8 \n",
      "1 2 3 4 5 6 7 8 9 \n"
     ]
    }
   ],
   "source": [
    "s=''\n",
    "for i in range(1,10):\n",
    "    print(s)\n",
    "    s=s+str(i)+ ' '\n",
    "print(s)"
   ]
  },
  {
   "cell_type": "code",
   "execution_count": 3,
   "id": "e8515618",
   "metadata": {},
   "outputs": [
    {
     "name": "stdout",
     "output_type": "stream",
     "text": [
      "52\n"
     ]
    }
   ],
   "source": [
    "x=-52\n",
    "print(abs(x))        #[abs()---> used to get positive value]"
   ]
  }
 ],
 "metadata": {
  "kernelspec": {
   "display_name": "Python 3",
   "language": "python",
   "name": "python3"
  },
  "language_info": {
   "codemirror_mode": {
    "name": "ipython",
    "version": 3
   },
   "file_extension": ".py",
   "mimetype": "text/x-python",
   "name": "python",
   "nbconvert_exporter": "python",
   "pygments_lexer": "ipython3",
   "version": "3.8.8"
  }
 },
 "nbformat": 4,
 "nbformat_minor": 5
}
