{
 "cells": [
  {
   "cell_type": "markdown",
   "id": "0f04c63f",
   "metadata": {},
   "source": [
    "# class 2"
   ]
  },
  {
   "cell_type": "markdown",
   "id": "448961e6",
   "metadata": {},
   "source": [
    "# 1.List   {data structure}"
   ]
  },
  {
   "cell_type": "code",
   "execution_count": 4,
   "id": "be305733",
   "metadata": {
    "scrolled": true
   },
   "outputs": [
    {
     "name": "stdout",
     "output_type": "stream",
     "text": [
      "[1, 2, 6, 4, 5]\n",
      "[1, 2, 'a', 'axd', 2.0]\n"
     ]
    }
   ],
   "source": [
    "list1=[1,2,6,4,5]\n",
    "list2=[1,2,'a','axd',2.0]\n",
    "print(list1)\n",
    "print(list2)"
   ]
  },
  {
   "cell_type": "code",
   "execution_count": 2,
   "id": "d7bd0626",
   "metadata": {},
   "outputs": [],
   "source": [
    "#insert=>input a number at a given position\n",
    "#append=>insert at end\n",
    "#remove=>delete particular element\n",
    "#pop=>delete last element\n",
    "#sort=>arranges in increasing order\n",
    "#reverse=>\n",
    "#len=>length "
   ]
  },
  {
   "cell_type": "code",
   "execution_count": 3,
   "id": "682f20f1",
   "metadata": {},
   "outputs": [
    {
     "data": {
      "text/plain": [
       "3"
      ]
     },
     "execution_count": 3,
     "metadata": {},
     "output_type": "execute_result"
    }
   ],
   "source": [
    "list1=[1,2,3,4,5]\n",
    "list1[-3]"
   ]
  },
  {
   "cell_type": "code",
   "execution_count": 5,
   "id": "6d32a396",
   "metadata": {},
   "outputs": [
    {
     "name": "stdout",
     "output_type": "stream",
     "text": [
      "[1, 2, 3, 7, 4, 5]\n"
     ]
    }
   ],
   "source": [
    "list1=[1,2,3,4,5]\n",
    "list1.insert(3,7)\n",
    "print(list1)"
   ]
  },
  {
   "cell_type": "code",
   "execution_count": 7,
   "id": "84038828",
   "metadata": {},
   "outputs": [
    {
     "name": "stdout",
     "output_type": "stream",
     "text": [
      "[1, 2, 3, 4, 5, 4]\n"
     ]
    }
   ],
   "source": [
    "list1=[1,2,3,4,5]\n",
    "list1.append(4)\n",
    "print(list1)"
   ]
  },
  {
   "cell_type": "code",
   "execution_count": 39,
   "id": "34325326",
   "metadata": {},
   "outputs": [
    {
     "name": "stdout",
     "output_type": "stream",
     "text": [
      "5\n",
      "[1, 2, 3, 4]\n"
     ]
    }
   ],
   "source": [
    "list1=[1,2,3,4,5]\n",
    "print(list1.pop())\n",
    "print(list1)"
   ]
  },
  {
   "cell_type": "code",
   "execution_count": 28,
   "id": "a0cb3e10",
   "metadata": {},
   "outputs": [
    {
     "name": "stdout",
     "output_type": "stream",
     "text": [
      "[1, 2, 4, 5]\n"
     ]
    }
   ],
   "source": [
    "list1=[1,2,3,4,5]\n",
    "list1.remove(3)\n",
    "print(list1)"
   ]
  },
  {
   "cell_type": "code",
   "execution_count": 29,
   "id": "c96bc115",
   "metadata": {},
   "outputs": [
    {
     "name": "stdout",
     "output_type": "stream",
     "text": [
      "[-3, 23, 51, 64, 111]\n"
     ]
    }
   ],
   "source": [
    "list1=[111,23,-3,64,51]\n",
    "list1.sort()\n",
    "print(list1)"
   ]
  },
  {
   "cell_type": "code",
   "execution_count": 30,
   "id": "b3c4b07d",
   "metadata": {},
   "outputs": [
    {
     "name": "stdout",
     "output_type": "stream",
     "text": [
      "[5, 4, 3, 2, 1]\n"
     ]
    }
   ],
   "source": [
    "list1=[1,2,3,4,5]\n",
    "list1.reverse()\n",
    "print(list1)"
   ]
  },
  {
   "cell_type": "code",
   "execution_count": 34,
   "id": "606d287e",
   "metadata": {},
   "outputs": [
    {
     "name": "stdout",
     "output_type": "stream",
     "text": [
      "5\n"
     ]
    }
   ],
   "source": [
    "list1=[1,2,3,4,5]\n",
    "print(len(list1))"
   ]
  },
  {
   "cell_type": "markdown",
   "id": "983f702d",
   "metadata": {},
   "source": [
    "# 2.Tuple    {data structure}"
   ]
  },
  {
   "cell_type": "code",
   "execution_count": 11,
   "id": "2da3fa3f",
   "metadata": {},
   "outputs": [
    {
     "name": "stdout",
     "output_type": "stream",
     "text": [
      "1\n",
      "2\n",
      "2\n"
     ]
    }
   ],
   "source": [
    "tup=(1,2,3,4,5,3,5)\n",
    "print(tup.count(2))\n",
    "print(tup.count(3))\n",
    "print(tup.count(5))"
   ]
  },
  {
   "cell_type": "code",
   "execution_count": 12,
   "id": "f308fdc6",
   "metadata": {},
   "outputs": [
    {
     "name": "stdout",
     "output_type": "stream",
     "text": [
      "5\n",
      "3\n"
     ]
    }
   ],
   "source": [
    "tup=(1,2,3,4,5)\n",
    "print(tup[4])\n",
    "print(tup[2])"
   ]
  },
  {
   "cell_type": "markdown",
   "id": "b06aca5e",
   "metadata": {},
   "source": [
    "# 3.sets   "
   ]
  },
  {
   "cell_type": "code",
   "execution_count": 35,
   "id": "4c326206",
   "metadata": {},
   "outputs": [
    {
     "name": "stdout",
     "output_type": "stream",
     "text": [
      "{1, 2, 3, 4, 5}\n"
     ]
    }
   ],
   "source": [
    "set1={1,2,3,4,5}\n",
    "print(set1)"
   ]
  },
  {
   "cell_type": "code",
   "execution_count": 38,
   "id": "68564e5c",
   "metadata": {
    "scrolled": true
   },
   "outputs": [
    {
     "name": "stdout",
     "output_type": "stream",
     "text": [
      "1\n",
      "{2, 3, 4, 5}\n"
     ]
    }
   ],
   "source": [
    "set1={1,2,3,4,5}\n",
    "print(set1.pop())    #pop()=> remove 1st element\n",
    "print(set1)"
   ]
  },
  {
   "cell_type": "markdown",
   "id": "b574fdd9",
   "metadata": {},
   "source": [
    "# 4.Dictionary"
   ]
  },
  {
   "cell_type": "code",
   "execution_count": 6,
   "id": "6e0a1ad6",
   "metadata": {},
   "outputs": [
    {
     "name": "stdout",
     "output_type": "stream",
     "text": [
      "{'a': [1, 2, 3], 'b': [4, 5, 6]}\n",
      "[1, 2, 3]\n",
      "{'b': [4, 5, 6]}\n"
     ]
    }
   ],
   "source": [
    "dic= {'a':[1,2,3], 'b':[4,5,6]}\n",
    "print(dic)\n",
    "print(dic.pop('a'))\n",
    "print(dic)"
   ]
  },
  {
   "cell_type": "code",
   "execution_count": 7,
   "id": "4f140cb5",
   "metadata": {},
   "outputs": [
    {
     "name": "stdout",
     "output_type": "stream",
     "text": [
      "[4, 5, 6]\n"
     ]
    }
   ],
   "source": [
    "print(dic['b'])"
   ]
  },
  {
   "cell_type": "markdown",
   "id": "da5b83f0",
   "metadata": {},
   "source": [
    "# ///Parameters"
   ]
  },
  {
   "cell_type": "code",
   "execution_count": 46,
   "id": "b094f882",
   "metadata": {},
   "outputs": [
    {
     "name": "stdout",
     "output_type": "stream",
     "text": [
      "4\n"
     ]
    }
   ],
   "source": [
    "def foo(a,b):            #def=>define ....#foo=> userdefined fn\n",
    "    return(a+b)\n",
    "print(foo(3,1))"
   ]
  },
  {
   "cell_type": "code",
   "execution_count": null,
   "id": "2bdd3f2a",
   "metadata": {},
   "outputs": [],
   "source": [
    "#arguments->  *arg    *a\n",
    "#keyword\n",
    "#keyword argument  **kwarg   **a"
   ]
  },
  {
   "cell_type": "code",
   "execution_count": 14,
   "id": "2f887211",
   "metadata": {},
   "outputs": [
    {
     "name": "stdout",
     "output_type": "stream",
     "text": [
      "1\n",
      "3\n",
      "6\n",
      "7\n",
      "7\n"
     ]
    }
   ],
   "source": [
    "def sum(*arg):\n",
    "    res=0\n",
    "    for i in arg:\n",
    "        res +=i\n",
    "        print(res)\n",
    "    print(res)\n",
    "sum(1,2,3,1)"
   ]
  },
  {
   "cell_type": "code",
   "execution_count": 15,
   "id": "5016fbab",
   "metadata": {},
   "outputs": [
    {
     "name": "stdout",
     "output_type": "stream",
     "text": [
      "first a\n",
      "second 1\n"
     ]
    }
   ],
   "source": [
    "def sum(**kwarg):\n",
    "    for key,value in kwarg.items():\n",
    "        print(key,value)\n",
    "sum(first='a',second=1)"
   ]
  },
  {
   "cell_type": "markdown",
   "id": "0fda6a52",
   "metadata": {},
   "source": [
    "# ///Packing & Unpacking"
   ]
  },
  {
   "cell_type": "code",
   "execution_count": 54,
   "id": "ab07c290",
   "metadata": {},
   "outputs": [
    {
     "name": "stdout",
     "output_type": "stream",
     "text": [
      "1\n",
      "2\n",
      "3\n"
     ]
    }
   ],
   "source": [
    "a,b,c=(1,2,3)\n",
    "print(a)\n",
    "print(b)\n",
    "print(c)"
   ]
  },
  {
   "cell_type": "markdown",
   "id": "537c50a4",
   "metadata": {},
   "source": [
    "# String"
   ]
  },
  {
   "cell_type": "code",
   "execution_count": 19,
   "id": "2f4ec0d9",
   "metadata": {},
   "outputs": [
    {
     "data": {
      "text/plain": [
       "'Aman'"
      ]
     },
     "execution_count": 19,
     "metadata": {},
     "output_type": "execute_result"
    }
   ],
   "source": [
    "abc='aMan'\n",
    "c='a'\n",
    "abc.capitalize()\n",
    "#abc.upper()\n",
    "#abc.lower()"
   ]
  },
  {
   "cell_type": "code",
   "execution_count": 64,
   "id": "60c4260b",
   "metadata": {},
   "outputs": [
    {
     "name": "stdout",
     "output_type": "stream",
     "text": [
      "n True\n",
      "k True\n",
      "j True\n",
      "s True\n",
      "d True\n",
      "f True\n",
      "NA\n",
      "h True\n",
      "h True\n",
      "NA\n",
      "d True\n",
      "v True\n",
      "4 False\n",
      "6 False\n",
      "f True\n",
      "d True\n",
      "NA\n",
      "5 False\n",
      "4 False\n",
      "d True\n",
      "f True\n",
      "NA\n",
      "6 False\n",
      "4 False\n",
      "6 False\n",
      "s True\n",
      "NA\n",
      "NA\n",
      "NA\n",
      "NA\n",
      "NA\n",
      "NA\n",
      "NA\n",
      "NA\n",
      "f True\n",
      "4 False\n",
      "s True\n",
      "f True\n",
      "6 False\n",
      "s True\n",
      "v True\n"
     ]
    }
   ],
   "source": [
    "a='nkjsdf:hh;dv46fd,54df.646s..;;//??f4sf6sv'\n",
    "for i in a:\n",
    "    if(i.isalpha()):\n",
    "        print(i,True)\n",
    "    elif(i.isdigit()):\n",
    "        print(i,False)\n",
    "    else:\n",
    "        print(\"NA\")"
   ]
  },
  {
   "cell_type": "markdown",
   "id": "4c400175",
   "metadata": {},
   "source": [
    "# Texr files"
   ]
  },
  {
   "cell_type": "code",
   "execution_count": null,
   "id": "a928fae3",
   "metadata": {},
   "outputs": [],
   "source": []
  },
  {
   "cell_type": "code",
   "execution_count": null,
   "id": "d658bd6c",
   "metadata": {},
   "outputs": [],
   "source": []
  },
  {
   "cell_type": "code",
   "execution_count": null,
   "id": "e0f8c177",
   "metadata": {},
   "outputs": [],
   "source": []
  }
 ],
 "metadata": {
  "kernelspec": {
   "display_name": "Python 3",
   "language": "python",
   "name": "python3"
  },
  "language_info": {
   "codemirror_mode": {
    "name": "ipython",
    "version": 3
   },
   "file_extension": ".py",
   "mimetype": "text/x-python",
   "name": "python",
   "nbconvert_exporter": "python",
   "pygments_lexer": "ipython3",
   "version": "3.8.8"
  }
 },
 "nbformat": 4,
 "nbformat_minor": 5
}
