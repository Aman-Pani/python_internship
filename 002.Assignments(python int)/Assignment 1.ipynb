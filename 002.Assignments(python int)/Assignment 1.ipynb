{
 "cells": [
  {
   "cell_type": "markdown",
   "id": "d9830303",
   "metadata": {},
   "source": [
    "# Q1.area of square"
   ]
  },
  {
   "cell_type": "code",
   "execution_count": 3,
   "id": "91773692",
   "metadata": {},
   "outputs": [
    {
     "name": "stdout",
     "output_type": "stream",
     "text": [
      "side of a square=> 5\n",
      "area =  25\n",
      "Area =  25.0\n"
     ]
    }
   ],
   "source": [
    "s=int(input(\"side of a square=> \"))\n",
    "a=s*s\n",
    "import math\n",
    "A=math.pow(s,2)\n",
    "print(\"area = \",a)\n",
    "print(\"Area = \",A)"
   ]
  },
  {
   "cell_type": "markdown",
   "id": "1a8673c9",
   "metadata": {},
   "source": [
    "# Q2. GDC of two numbers"
   ]
  },
  {
   "cell_type": "code",
   "execution_count": 3,
   "id": "20c80a64",
   "metadata": {
    "scrolled": true
   },
   "outputs": [
    {
     "name": "stdout",
     "output_type": "stream",
     "text": [
      "Enter value to a :: 24\n",
      "Enter value to b :: 36\n",
      "GCD of a & b ::  12\n"
     ]
    }
   ],
   "source": [
    "import math\n",
    "a=int(input(\"Enter value to a :: \"))\n",
    "b=int(input(\"Enter value to b :: \"))\n",
    "g=math.gcd(a,b)\n",
    "print(\"GCD of a & b :: \",g)"
   ]
  },
  {
   "cell_type": "markdown",
   "id": "44965ca8",
   "metadata": {},
   "source": [
    "OR"
   ]
  },
  {
   "cell_type": "code",
   "execution_count": 14,
   "id": "4ff147bc",
   "metadata": {},
   "outputs": [
    {
     "name": "stdout",
     "output_type": "stream",
     "text": [
      "Enter value to a :: 24\n",
      "Enter value to b :: 36\n",
      "GCD of 24 & 36 = 12\n"
     ]
    }
   ],
   "source": [
    "a=int(input(\"Enter value to a :: \"))\n",
    "b=int(input(\"Enter value to b :: \"))\n",
    "print(\"GCD of {} & {} = {}\".format(a,b,gcd))\n",
    "while a!=0:\n",
    "    x=a\n",
    "    a=b%a\n",
    "    b=x\n",
    "gcd=b\n",
    "#print(\"GCD of {} & {} = {}\".format(a,b,gcd))"
   ]
  },
  {
   "cell_type": "markdown",
   "id": "f4e98328",
   "metadata": {},
   "source": [
    "OR"
   ]
  },
  {
   "cell_type": "code",
   "execution_count": 6,
   "id": "92cfa75d",
   "metadata": {},
   "outputs": [
    {
     "name": "stdout",
     "output_type": "stream",
     "text": [
      "Enter value to a :: 24\n",
      "Enter value to b :: 36\n",
      "GCD =>  12\n"
     ]
    }
   ],
   "source": [
    "a=int(input(\"Enter value to a :: \"))\n",
    "b=int(input(\"Enter value to b :: \"))\n",
    "#print(\"GCD of {} & {} = {}\".format(a,b,gcd))\n",
    "while a!=b:\n",
    "    if a>b:\n",
    "        a=a-b\n",
    "    else:\n",
    "        b=b-a\n",
    "gcd=a\n",
    "print(\"GCD => \",gcd)"
   ]
  },
  {
   "cell_type": "markdown",
   "id": "32343058",
   "metadata": {},
   "source": [
    "# Q3.Circumference of circle (math library)"
   ]
  },
  {
   "cell_type": "code",
   "execution_count": 15,
   "id": "99a24802",
   "metadata": {},
   "outputs": [
    {
     "name": "stdout",
     "output_type": "stream",
     "text": [
      "Enter diameter of a circle :: 10\n",
      "Circumference of circle =>  31.41592653589793\n"
     ]
    }
   ],
   "source": [
    "import math\n",
    "d=int(input(\"Enter diameter of a circle :: \"))\n",
    "c=math.pi*d\n",
    "print(\"Circumference of circle => \",c)"
   ]
  },
  {
   "cell_type": "markdown",
   "id": "807e92b9",
   "metadata": {},
   "source": [
    "# Q4.Dice [input a face =>output opposite face]"
   ]
  },
  {
   "cell_type": "code",
   "execution_count": 26,
   "id": "a15c5baf",
   "metadata": {},
   "outputs": [
    {
     "name": "stdout",
     "output_type": "stream",
     "text": [
      "Enter a number (Between 1 to 6):: 5\n",
      "Opposite face number of 5 is :: 2\n"
     ]
    }
   ],
   "source": [
    "a=int(input(\"Enter a number (Between 1 to 6):: \"))\n",
    "if (a>0) and (a<=6):\n",
    "    print(\"Opposite face number of {} is :: {}\".format(a,7-a))\n",
    "else:\n",
    "    print(\"You have enterd a larger number.\")"
   ]
  },
  {
   "cell_type": "markdown",
   "id": "aea8d0d9",
   "metadata": {},
   "source": [
    "# Q5.Distance between two point"
   ]
  },
  {
   "cell_type": "code",
   "execution_count": 21,
   "id": "f900b8d5",
   "metadata": {},
   "outputs": [
    {
     "name": "stdout",
     "output_type": "stream",
     "text": [
      "Input x-coordinate of first point ::10\n",
      "Input y-coordinate of first point ::20\n",
      "Input x-coordinate of second point ::20\n",
      "Input y-coordinate of second point ::10\n",
      "Distance between (10,20) and (20,10) is = 14.142135623730951\n"
     ]
    }
   ],
   "source": [
    "import math\n",
    "x1=int(input(\"Input x-coordinate of first point ::\"))\n",
    "y1=int(input(\"Input y-coordinate of first point ::\"))\n",
    "x2=int(input(\"Input x-coordinate of second point ::\"))\n",
    "y2=int(input(\"Input y-coordinate of second point ::\"))\n",
    "#distance=math.sqrt(math.pow(x1-x2,2) + math.pow(y1-y2,2))\n",
    "distance=math.dist([x1,y1],[x2,y2])\n",
    "print(\"Distance between ({},{}) and ({},{}) is = {}\".format(x1,y1,x2,y2,distance))"
   ]
  }
 ],
 "metadata": {
  "kernelspec": {
   "display_name": "Python 3",
   "language": "python",
   "name": "python3"
  },
  "language_info": {
   "codemirror_mode": {
    "name": "ipython",
    "version": 3
   },
   "file_extension": ".py",
   "mimetype": "text/x-python",
   "name": "python",
   "nbconvert_exporter": "python",
   "pygments_lexer": "ipython3",
   "version": "3.8.8"
  }
 },
 "nbformat": 4,
 "nbformat_minor": 5
}
