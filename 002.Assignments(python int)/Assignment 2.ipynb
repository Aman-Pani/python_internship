{
 "cells": [
  {
   "cell_type": "markdown",
   "id": "ddda28ad",
   "metadata": {},
   "source": [
    "# Q1.Sum of digits in a number"
   ]
  },
  {
   "cell_type": "code",
   "execution_count": 6,
   "id": "a46ca940",
   "metadata": {},
   "outputs": [
    {
     "name": "stdout",
     "output_type": "stream",
     "text": [
      "Enter a number=> 984\n",
      "Sum of the digit(s) is =  21\n"
     ]
    }
   ],
   "source": [
    "n=int(input(\"Enter a number=> \"))\n",
    "sum=0\n",
    "while n>0:\n",
    "    remd=n%10\n",
    "    sum=sum+remd\n",
    "    n=n//10\n",
    "print(\"Sum of the digit(s) is = \",sum)"
   ]
  },
  {
   "cell_type": "markdown",
   "id": "e6b5d67c",
   "metadata": {},
   "source": [
    "# Q2.Take a list & pop last 2 no.s from the list"
   ]
  },
  {
   "cell_type": "code",
   "execution_count": 11,
   "id": "152b4562",
   "metadata": {},
   "outputs": [
    {
     "name": "stdout",
     "output_type": "stream",
     "text": [
      "5\n",
      "4\n",
      "[1, 2, 3]\n"
     ]
    }
   ],
   "source": [
    "list=[1,2,3,4,5]\n",
    "print(list.pop())\n",
    "print(list.pop())\n",
    "print(list)"
   ]
  },
  {
   "cell_type": "markdown",
   "id": "f45e4eeb",
   "metadata": {},
   "source": [
    "# Q3.Take a string & capitalize the first letter of the input"
   ]
  },
  {
   "cell_type": "code",
   "execution_count": 14,
   "id": "43697e4c",
   "metadata": {},
   "outputs": [
    {
     "name": "stdout",
     "output_type": "stream",
     "text": [
      "Enter a string=> aman\n"
     ]
    },
    {
     "data": {
      "text/plain": [
       "'Aman'"
      ]
     },
     "execution_count": 14,
     "metadata": {},
     "output_type": "execute_result"
    }
   ],
   "source": [
    "a=str(input(\"Enter a string=> \"))\n",
    "a.capitalize()"
   ]
  },
  {
   "cell_type": "markdown",
   "id": "88dd8b15",
   "metadata": {},
   "source": [
    "# Q4.Find sum of first 'n' numbers"
   ]
  },
  {
   "cell_type": "code",
   "execution_count": 16,
   "id": "68b9b3b6",
   "metadata": {},
   "outputs": [
    {
     "name": "stdout",
     "output_type": "stream",
     "text": [
      "Enter a value for 'n' => 5\n",
      "SUM is =>  15.0\n"
     ]
    }
   ],
   "source": [
    "n=int(input(\"Enter a value for 'n' => \"))\n",
    "sum=n*(n+1)/2\n",
    "print(\"SUM is => \",sum)"
   ]
  }
 ],
 "metadata": {
  "kernelspec": {
   "display_name": "Python 3",
   "language": "python",
   "name": "python3"
  },
  "language_info": {
   "codemirror_mode": {
    "name": "ipython",
    "version": 3
   },
   "file_extension": ".py",
   "mimetype": "text/x-python",
   "name": "python",
   "nbconvert_exporter": "python",
   "pygments_lexer": "ipython3",
   "version": "3.8.8"
  }
 },
 "nbformat": 4,
 "nbformat_minor": 5
}
