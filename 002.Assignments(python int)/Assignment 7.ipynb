{
 "cells": [
  {
   "cell_type": "code",
   "execution_count": 4,
   "id": "79cfca65",
   "metadata": {},
   "outputs": [
    {
     "name": "stdout",
     "output_type": "stream",
     "text": [
      "enter the 1st string=> amar\n",
      "enter the 2nd string=> aman\n",
      "The longest common prefix is ::\n",
      "ama"
     ]
    }
   ],
   "source": [
    "#Q1)Given a two strings find the longest common prefix for them\n",
    "str1=input('enter the 1st string=> ')\n",
    "str2=input('enter the 2nd string=> ')\n",
    "zipped=zip(str1,str2)\n",
    "zipped_list=list(zipped)\n",
    "#print(zipped_list)\n",
    "print('The longest common prefix is ::')\n",
    "for i,j in zipped_list:\n",
    "    if(i==j): print(i,end='')"
   ]
  },
  {
   "cell_type": "code",
   "execution_count": 3,
   "id": "6421d280",
   "metadata": {},
   "outputs": [
    {
     "name": "stdout",
     "output_type": "stream",
     "text": [
      "[(10, 1), (20, 5), (30, 3), (40, 2), (50, 4)]\n",
      "[10.0, 4.0, 10.0, 20.0, 12.5]\n"
     ]
    }
   ],
   "source": [
    "#Q2)Accept two sequence of number, one for distance another for time \n",
    "dist=[10,20,30,40,50]\n",
    "time=[1,5,3,2,4]\n",
    "speed=[]\n",
    "zipped=zip(dist,time)\n",
    "zipped_list=list(zipped)\n",
    "#print(zipped_list)\n",
    "for i,j in zipped_list:\n",
    "    speed.append((i/j))\n",
    "print(speed)"
   ]
  },
  {
   "cell_type": "code",
   "execution_count": 1,
   "id": "ba2c663b",
   "metadata": {},
   "outputs": [
    {
     "name": "stdout",
     "output_type": "stream",
     "text": [
      "Speed is : [10.0, 4.0, 10.0, 20.0, 12.5]\n"
     ]
    }
   ],
   "source": [
    "distance= [10,20,30,40,50] \n",
    "time = [1, 5, 3, 2, 4] \n",
    "speed = [i / j for i, j in zip(distance, time)] \n",
    "print (\"Speed is : \" + str(speed))"
   ]
  },
  {
   "cell_type": "code",
   "execution_count": 11,
   "id": "f628fd37",
   "metadata": {},
   "outputs": [
    {
     "name": "stdout",
     "output_type": "stream",
     "text": [
      "Length of 1st side=> 1\n",
      "Length of 2nd side=> 3\n",
      "Length of 3rd side=> 2\n",
      " =>The trinagle is invalid\n"
     ]
    }
   ],
   "source": [
    "#Q3)Identification of triangle\n",
    "a=int(input('Length of 1st side=> '))\n",
    "b=int(input('Length of 2nd side=> '))\n",
    "c=int(input('Length of 3rd side=> '))\n",
    "if (a+b>c) and (a+c>b) and (b+c>a):\n",
    "    print(' =>The trinagle is valid')\n",
    "    if a==b==c : \n",
    "        print(' =>Equilateral trinagle')\n",
    "    elif (a*a==b*b+c*c) or (b*b==c*c+a*a) or (c*c==a*a+b*b):\n",
    "        print(' =>Right angled trinagle')\n",
    "        r=(max(a,b,c)/2)\n",
    "        print(f' =>Radius of circumcentre {r}')\n",
    "    elif (a!=b) and (b!=c) and (c!=a):\n",
    "        print(' =>Scalene trinagle')\n",
    "    elif a==b or b==c or a==c:\n",
    "        print(' =>Isoscalene trinagle')\n",
    "else:\n",
    "    print(' =>The trinagle is invalid')"
   ]
  },
  {
   "cell_type": "code",
   "execution_count": 20,
   "id": "c4058ec4",
   "metadata": {},
   "outputs": [
    {
     "name": "stdout",
     "output_type": "stream",
     "text": [
      "[(10, 1, 10.0), (20, 5, 4.0), (30, 3, 10.0), (40, 2, 20.0), (50, 4, 12.5)]\n",
      "\n",
      "\n",
      "After unzip\n",
      "dist => (10, 20, 30, 40, 50)\n",
      "time => (1, 5, 3, 2, 4)\n",
      "speed=> (10.0, 4.0, 10.0, 20.0, 12.5)\n"
     ]
    }
   ],
   "source": [
    "dist=[10,20,30,40,50]\n",
    "time=[1,5,3,2,4]\n",
    "speed=[10.0, 4.0, 10.0, 20.0, 12.5]\n",
    "zipped=zip(dist,time,speed)\n",
    "zl=list(zipped)\n",
    "print(zl)\n",
    "print(\"\\n\")\n",
    "dis,tim,sped=zip(*zl)\n",
    "print(\"After unzip\")\n",
    "print('dist => ',end='')\n",
    "print(dis)\n",
    "print('time => ',end='')\n",
    "print(tim)\n",
    "print('speed=> ',end='')\n",
    "print(sped)"
   ]
  },
  {
   "cell_type": "code",
   "execution_count": 23,
   "id": "a5a815af",
   "metadata": {},
   "outputs": [
    {
     "name": "stdout",
     "output_type": "stream",
     "text": [
      "frozenset({1, 2, 3, 4})\n",
      "frozenset({1, 2, 3, 4, 5, 6})\n",
      "frozenset({3, 4})\n",
      "frozenset({1, 2})\n",
      "frozenset({1, 2, 5, 6})\n"
     ]
    }
   ],
   "source": [
    "A = frozenset([1, 2, 3, 4])\n",
    "B = frozenset([3, 4, 5, 6])\n",
    "C = A.copy() \n",
    "print(C)\n",
    "print(A.union(B)) \n",
    "print(A.intersection(B))  \n",
    "print(A.difference(B))  \n",
    "print(B.symmetric_difference(A))"
   ]
  },
  {
   "cell_type": "code",
   "execution_count": 29,
   "id": "d3bce7ca",
   "metadata": {},
   "outputs": [
    {
     "name": "stdout",
     "output_type": "stream",
     "text": [
      "['1', '2', '3']\n"
     ]
    }
   ],
   "source": [
    "t=tuple('123')\n",
    "a=list(t)\n",
    "print(a)"
   ]
  }
 ],
 "metadata": {
  "kernelspec": {
   "display_name": "Python 3",
   "language": "python",
   "name": "python3"
  },
  "language_info": {
   "codemirror_mode": {
    "name": "ipython",
    "version": 3
   },
   "file_extension": ".py",
   "mimetype": "text/x-python",
   "name": "python",
   "nbconvert_exporter": "python",
   "pygments_lexer": "ipython3",
   "version": "3.8.8"
  }
 },
 "nbformat": 4,
 "nbformat_minor": 5
}
