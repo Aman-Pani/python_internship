{
 "cells": [
  {
   "cell_type": "code",
   "execution_count": 53,
   "id": "aa177d17",
   "metadata": {},
   "outputs": [
    {
     "name": "stdout",
     "output_type": "stream",
     "text": [
      "Products with a price higher than 10 are => orange  kiwi  "
     ]
    }
   ],
   "source": [
    "#Q1]Given a list of products, print out the name of all the products with a price higher than 10 \n",
    "products = {1:{'name': 'orange', 'price': 20},\n",
    "            2:{'name': 'apple' , 'price': 8},\n",
    "            3:{'name': 'banana', 'price': 10},\n",
    "            4:{'name': 'kiwi'  , 'price': 30} }\n",
    "print('Products with a price higher than 10 are => ',end='')\n",
    "for j in products.keys():\n",
    "        if (products[j]['price']>10) :\n",
    "            #print(products.get('name',products[j]))\n",
    "            print(products[j]['name'],end='  ')"
   ]
  },
  {
   "cell_type": "code",
   "execution_count": 38,
   "id": "3fb4baca",
   "metadata": {},
   "outputs": [
    {
     "name": "stdout",
     "output_type": "stream",
     "text": [
      "Products with a price higher than 10 are => orange  kiwi  "
     ]
    }
   ],
   "source": [
    "products = [{'name': 'orange', 'price': 20},\n",
    "            {'name': 'apple' , 'price': 8},\n",
    "            {'name': 'banana', 'price': 10},\n",
    "            {'name': 'kiwi'  , 'price': 30} ]\n",
    "print('Products with a price higher than 10 are => ',end='')\n",
    "for i in products:\n",
    "    if i['price']>10:\n",
    "        print(i['name'],end='  ')"
   ]
  },
  {
   "cell_type": "code",
   "execution_count": 39,
   "id": "249c1970",
   "metadata": {},
   "outputs": [
    {
     "name": "stdout",
     "output_type": "stream",
     "text": [
      "Total =>  157.1\n"
     ]
    }
   ],
   "source": [
    "#Q2]ake two list of numbers of products quantities and prices and calculate total\n",
    "#Use list comprehension and aggregation\n",
    "product_quantities = [13, 5, 6, 10, 11]\n",
    "prices = [1.2, 6.5, 1.0, 4.8, 5.0]\n",
    "total=sum([a*b for a,b in zip(product_quantities,prices)] )\n",
    "print('Total => ',total)"
   ]
  },
  {
   "cell_type": "code",
   "execution_count": 72,
   "id": "a035ac9b",
   "metadata": {},
   "outputs": [
    {
     "name": "stdout",
     "output_type": "stream",
     "text": [
      "Enter votes=> w r t e w w r\n",
      "Winner candidate :  w\n"
     ]
    }
   ],
   "source": [
    "#Q3]Give a list of tickets for candidates, find out who is the winner\n",
    "vote=input('Enter votes=> ').split()\n",
    "#print(vote)\n",
    "x=[]\n",
    "for i in vote:\n",
    "    #print(vote.count(i))\n",
    "    x.append(vote.count(i))\n",
    "for i in vote:\n",
    "    l=max(x)\n",
    "    if(l==vote.count(i)):\n",
    "        print(\"Winner candidate : \",i) \n",
    "        break"
   ]
  },
  {
   "cell_type": "code",
   "execution_count": null,
   "id": "70e1480a",
   "metadata": {},
   "outputs": [],
   "source": [
    "6Y5F2f"
   ]
  },
  {
   "cell_type": "code",
   "execution_count": 8,
   "id": "1297ca28",
   "metadata": {},
   "outputs": [
    {
     "name": "stdout",
     "output_type": "stream",
     "text": [
      "dic4=>  {1: 10, 2: 20, 3: 30, 4: 40, 5: 50, 6: 60}\n"
     ]
    }
   ],
   "source": [
    "#Concatenate following dictionaries to create a new one\n",
    "dic1={1:10, 2:20}\n",
    "dic2={3:30, 4:40}\n",
    "dic3={5:50,6:60}\n",
    "dic4={}\n",
    "for i in (dic1, dic2, dic3): dic4.update(i)\n",
    "print('dic4=> ',dic4)"
   ]
  },
  {
   "cell_type": "code",
   "execution_count": 7,
   "id": "6f7cb3b6",
   "metadata": {},
   "outputs": [
    {
     "name": "stdout",
     "output_type": "stream",
     "text": [
      "{1: 1, 2: 4, 3: 9, 4: 16, 5: 25, 6: 36, 7: 49, 8: 64, 9: 81, 10: 100, 11: 121, 12: 144, 13: 169, 14: 196, 15: 225}\n"
     ]
    }
   ],
   "source": [
    "#Print a dictionary where the keys are numbers between 1 and 15 and the values are square of keys.\n",
    "dictionary={}\n",
    "for x in range(1,16):\n",
    "    dictionary[x]=x*x\n",
    "print(dictionary) "
   ]
  },
  {
   "cell_type": "code",
   "execution_count": 6,
   "id": "c6b8540f",
   "metadata": {},
   "outputs": [
    {
     "name": "stdout",
     "output_type": "stream",
     "text": [
      "10\n"
     ]
    }
   ],
   "source": [
    "#Write a Python program to sum all the values in a dictionary.\n",
    "dic = {'d1':10,'d2':-5,'d3':25,'d4':-20}\n",
    "print(sum(dic.values()))"
   ]
  },
  {
   "cell_type": "code",
   "execution_count": 11,
   "id": "513f73a2",
   "metadata": {},
   "outputs": [
    {
     "name": "stdout",
     "output_type": "stream",
     "text": [
      "Enter key=> 3\n",
      "Key 3 is present in the dictionary\n"
     ]
    }
   ],
   "source": [
    "d = {1: 10, 2: 20, 3: 30, 4: 40, 5: 50, 6: 60}\n",
    "x = int(input('Enter key=> '))\n",
    "if x in d:\n",
    "    print(f'Key {x} is present in the dictionary')\n",
    "else:\n",
    "    print(f'Key {x}is not present in the dictionary')"
   ]
  },
  {
   "cell_type": "code",
   "execution_count": 21,
   "id": "6a276687",
   "metadata": {},
   "outputs": [
    {
     "name": "stdout",
     "output_type": "stream",
     "text": [
      "Enter key=> 3\n",
      "Key 3 is present in the dictionary\n",
      "{1: 10, 2: 20, 4: 40, 5: 50, 6: 60}\n"
     ]
    }
   ],
   "source": [
    "d = {1: 10, 2: 20, 3: 30, 4: 40, 5: 50, 6: 60}\n",
    "x = int(input('Enter key=> '))\n",
    "if x in d:\n",
    "    print(f'Key {x} is present in the dictionary')\n",
    "    del d[x]\n",
    "else:\n",
    "    print(f'Key {x}is not present in the dictionary')\n",
    "print(d)"
   ]
  },
  {
   "cell_type": "code",
   "execution_count": 22,
   "id": "86d56cf6",
   "metadata": {},
   "outputs": [
    {
     "name": "stdout",
     "output_type": "stream",
     "text": [
      "Enter a string=> amam pani\n",
      "No. of vowels : 4\n"
     ]
    }
   ],
   "source": [
    "s=input('Enter a string=> ')\n",
    "count = 0\n",
    "vowel = set(\"aeiouAEIOU\")\n",
    "for x in s:\n",
    "    if x in vowel:\n",
    "        count += 1\n",
    "print(\"No. of vowels :\", count)"
   ]
  },
  {
   "cell_type": "code",
   "execution_count": 24,
   "id": "0e3d76e2",
   "metadata": {},
   "outputs": [
    {
     "name": "stdout",
     "output_type": "stream",
     "text": [
      "Enter string a=> asdfgh\n",
      "Enter string b=> adgcv\n",
      "shf"
     ]
    }
   ],
   "source": [
    "a =input('Enter string a=> ')\n",
    "b =input('Enter string b=> ')\n",
    "setA = set(a)\n",
    "setB = set(b)\n",
    "x = setA-setB\n",
    "for i in x:\n",
    "    print(i,end='')"
   ]
  }
 ],
 "metadata": {
  "kernelspec": {
   "display_name": "Python 3",
   "language": "python",
   "name": "python3"
  },
  "language_info": {
   "codemirror_mode": {
    "name": "ipython",
    "version": 3
   },
   "file_extension": ".py",
   "mimetype": "text/x-python",
   "name": "python",
   "nbconvert_exporter": "python",
   "pygments_lexer": "ipython3",
   "version": "3.8.8"
  }
 },
 "nbformat": 4,
 "nbformat_minor": 5
}
