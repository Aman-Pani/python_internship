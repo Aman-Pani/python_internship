{
 "cells": [
  {
   "cell_type": "markdown",
   "id": "20b308bf",
   "metadata": {},
   "source": [
    "# Q1.check a number is present in the list"
   ]
  },
  {
   "cell_type": "code",
   "execution_count": 12,
   "id": "e12cc150",
   "metadata": {},
   "outputs": [
    {
     "name": "stdout",
     "output_type": "stream",
     "text": [
      "Enter the number to be searched=> 8\n",
      " =>Number is present\n"
     ]
    }
   ],
   "source": [
    "list=[1,2,3,4,5,6,7,8]\n",
    "num=int(input('Enter the number to be searched=> '))\n",
    "if num in list:\n",
    "    print(' =>Number is present')\n",
    "else:\n",
    "    print(' =>Number is absent')"
   ]
  },
  {
   "cell_type": "markdown",
   "id": "c7182456",
   "metadata": {},
   "source": [
    "OR"
   ]
  },
  {
   "cell_type": "code",
   "execution_count": 39,
   "id": "0a417700",
   "metadata": {},
   "outputs": [
    {
     "name": "stdout",
     "output_type": "stream",
     "text": [
      "Enter element in the list :: 1 2 5 4 8\n",
      "Entered list is :: ['1', '2', '5', '4', '8'] \n",
      "Enter element to be searched :: 5\n",
      "Element is present . \n"
     ]
    }
   ],
   "source": [
    "b=0\n",
    "list = input(\"Enter element in the list :: \").split()\n",
    "print(f\"Entered list is :: {list} \")\n",
    "c = input(\"Enter element to be searched :: \")\n",
    "for l in list :\n",
    "    if c == l : b = b + 1\n",
    "    else      :continue\n",
    "if( b >= 1):print(\"Element is present . \")\n",
    "else       :print(\"Element is not present . \")"
   ]
  },
  {
   "cell_type": "markdown",
   "id": "60b2b911",
   "metadata": {},
   "source": [
    "# Q2.Existance of sub-string"
   ]
  },
  {
   "cell_type": "code",
   "execution_count": 6,
   "id": "8372143a",
   "metadata": {},
   "outputs": [
    {
     "name": "stdout",
     "output_type": "stream",
     "text": [
      "Enter a string=> aman ranjan pani\n",
      "Enter a string as sub-string=> an\n",
      "\"an\" is a sub-string of \"aman ranjan pani\".\n"
     ]
    }
   ],
   "source": [
    "str1=input('Enter a string=> ')\n",
    "str2=input('Enter a string as sub-string=> ')\n",
    "c=0\n",
    "for i in str2:\n",
    "    for j in str1:\n",
    "        if i==j:c+=1\n",
    "if c>=len(str2):print(f'\"{str2}\" is a sub-string of \"{str1}\".')\n",
    "else           :print(f'\"{str2}\" is not a sub-string of \"{str1}\".')"
   ]
  },
  {
   "cell_type": "markdown",
   "id": "46439940",
   "metadata": {},
   "source": [
    "# Q3.Eliminate duplicate value & print reserved original order"
   ]
  },
  {
   "cell_type": "code",
   "execution_count": 42,
   "id": "114f2f1a",
   "metadata": {},
   "outputs": [
    {
     "name": "stdout",
     "output_type": "stream",
     "text": [
      "Enter how many numbers to be printed => 5\n",
      "Enter element => 4\n",
      "Enter element => 4\n",
      "Enter element => 5\n",
      "Enter element => 5\n",
      "Enter element => 6\n",
      "Entered list is =>  ['4', '4', '5', '5', '6']\n",
      "After deleting duplicate elements =>  ['4', '5', '6']\n"
     ]
    }
   ],
   "source": [
    "list1 = []\n",
    "list2 = []\n",
    "a = 0\n",
    "n = int(input(\"Enter how many numbers to be printed => \"))\n",
    "for i in range (0 , n):\n",
    "    a = (input(\"Enter element => \"))\n",
    "    list1.append(a)\n",
    "print(\"Entered list is => \",list1)\n",
    "for j in list1:\n",
    "    c = 0\n",
    "    for z in list1:   \n",
    "        if j == z: c += 1\n",
    "        else     :continue\n",
    "    if c >= 1:\n",
    "        if list2.count(j) == 0: list2.append(j)\n",
    "        else :continue\n",
    "    else:list2.append(j)\n",
    "print(\"After deleting duplicate elements => \",list2)"
   ]
  },
  {
   "cell_type": "markdown",
   "id": "de942e3e",
   "metadata": {},
   "source": [
    "# Q4.find n'th largest number of any list "
   ]
  },
  {
   "cell_type": "code",
   "execution_count": 35,
   "id": "6e89fa0e",
   "metadata": {},
   "outputs": [
    {
     "name": "stdout",
     "output_type": "stream",
     "text": [
      "Enter element=> 9 1 56 48 33 44 99 \n",
      "Entered list is =>  ['9', '1', '56', '48', '33', '44', '99']\n",
      "Enter a number => 3\n",
      "The 3 largest number is => 56\n"
     ]
    }
   ],
   "source": [
    "lst = input(\"Enter element=> \").split()\n",
    "print(\"Entered list is => \",lst)\n",
    "lst.sort()\n",
    "#lst.reverse()\n",
    "n = int(input(\"Enter a number => \"))\n",
    "print(f\"The {n} largest number is => {lst[-n]}\")\n",
    "'''for i in n:\n",
    "    if n == lst.index(i) :\n",
    "        if x == lst[n-1] : print(f\"The {n} largest number is => {x}\")\n",
    "        else :print(\"You have exceeded the range of the list .\")'''"
   ]
  },
  {
   "cell_type": "markdown",
   "id": "251b8bca",
   "metadata": {},
   "source": [
    "# LAB assignment"
   ]
  },
  {
   "cell_type": "markdown",
   "id": "e44aff11",
   "metadata": {},
   "source": [
    "# 1. Write a Python program to change the position of every n-th value with the (n+1)th in a list.Sample list: [0,1,2,3,4,5]Expected Output: [1, 0, 3, 2, 5, 4]\n"
   ]
  },
  {
   "cell_type": "code",
   "execution_count": 9,
   "id": "2b6a6616",
   "metadata": {},
   "outputs": [
    {
     "name": "stdout",
     "output_type": "stream",
     "text": [
      "Enter element in the list :: a m a n\n",
      "['m', 'a', 'n', 'a']\n"
     ]
    }
   ],
   "source": [
    "a=input(\"Enter element in the list :: \").split()\n",
    "#print(len(a))\n",
    "for i in range(0,len(a)-1,2):\n",
    "    a.insert(i+1,(a.pop(i)))\n",
    "print(a)"
   ]
  }
 ],
 "metadata": {
  "kernelspec": {
   "display_name": "Python 3",
   "language": "python",
   "name": "python3"
  },
  "language_info": {
   "codemirror_mode": {
    "name": "ipython",
    "version": 3
   },
   "file_extension": ".py",
   "mimetype": "text/x-python",
   "name": "python",
   "nbconvert_exporter": "python",
   "pygments_lexer": "ipython3",
   "version": "3.8.8"
  }
 },
 "nbformat": 4,
 "nbformat_minor": 5
}
