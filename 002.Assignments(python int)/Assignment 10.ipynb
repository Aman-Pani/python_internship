{
 "cells": [
  {
   "cell_type": "code",
   "execution_count": 24,
   "id": "551f25bc",
   "metadata": {},
   "outputs": [
    {
     "name": "stdout",
     "output_type": "stream",
     "text": [
      "Enter the list items=> 9 5 4 8 6 7 2 \n",
      "Sorted  list=>  [2, 4, 5, 6, 7, 8, 9]\n",
      "Enter element to search=> 7\n",
      "Element is present at index 4\n"
     ]
    }
   ],
   "source": [
    "#Q1} binary search using recursive\n",
    "def binary_search(list, x):\n",
    "    min = 0\n",
    "    max = len(arr) - 1\n",
    "    mid = 0\n",
    "    while min <= max:\n",
    "        mid = (max + min) // 2\n",
    "        if   list[mid] < x : min = mid + 1\n",
    "        elif list[mid] > x : max = mid - 1\n",
    "        else               : return mid\n",
    "    return -1\n",
    "\n",
    "list = [int(i) for i in input(\"Enter the list items=> \").split()]\n",
    "list.sort()\n",
    "print('Sorted  list=> ',list)\n",
    "x = int(input('Enter element to search=> '))\n",
    "result = binary_search(list, x)\n",
    "\n",
    "if result != -1:\n",
    "    print(\"Element is present at index\", str(result))\n",
    "else:\n",
    "    print(\"Element is not present\")"
   ]
  },
  {
   "cell_type": "code",
   "execution_count": null,
   "id": "232fe2e5",
   "metadata": {},
   "outputs": [],
   "source": [
    "2. Give a list of weight and value pairs for items and a bag with capacity (maximum items it can carry). Calculate \n",
    "the maximum Weight that can be carried in the bag.\n",
    "Note - Items can be carried in parts/fraction.\n",
    "Input\n",
    "==========\n",
    "Items as (weight, value) pairs\n",
    "Items = [(60, 10), (100, 20), (120, 30)] // (60, 10) means 10 items with total 60gms weight i.e. each item 6gms\n",
    "capacity = 50;\n",
    "Output\n",
    "======\n",
    "240\n",
    "\n",
    "\n",
    "3. Print a sorted sequence (1-N, N being the user input) of number with following pattern 2^i * 3^j * 5^k\n",
    "Approach: Take input N from the user and output the Nth number in the sequence"
   ]
  },
  {
   "cell_type": "code",
   "execution_count": 3,
   "id": "b1dea9c0",
   "metadata": {},
   "outputs": [
    {
     "name": "stdout",
     "output_type": "stream",
     "text": [
      "[(6, 10), (5, 20), (4, 30)]\n",
      "(6, 10)\n",
      "6\n",
      "(5, 20)\n",
      "5\n",
      "(4, 30)\n",
      "240\n"
     ]
    }
   ],
   "source": [
    "#Q2} Give a list of weight and value pairs for items and a bag with capacity.\n",
    "list1 = [(60,10),(100,20),(120,30)]\n",
    "unit_list = [((x//y),y) for (x,y) in list1]\n",
    "unit_list.sort(reverse = True)\n",
    "print(unit_list)\n",
    "n = 50\n",
    "total = 0\n",
    "for i in unit_list:\n",
    "    print(i)\n",
    "    if n>=i[1]:\n",
    "        print(i[0])\n",
    "        total = total + i[1]*i[0]\n",
    "        n = n-i[1]\n",
    "    else:\n",
    "        total = total+n*i[0]\n",
    "        break\n",
    "print(total)"
   ]
  },
  {
   "cell_type": "code",
   "execution_count": 30,
   "id": "f7376a78",
   "metadata": {},
   "outputs": [
    {
     "name": "stdout",
     "output_type": "stream",
     "text": [
      "Enter number=> 10\n",
      "[1, 2, 3, 4, 5, 6, 8, 9, 10] "
     ]
    }
   ],
   "source": [
    "#Q3} Print a sorted sequence (1-N, N being the user input) of number with following pattern 2^i * 3^j * 5^k\n",
    "def num(x):\n",
    "    if x==1  : return 1\n",
    "    if x%2==0: return num(x/2)\n",
    "    if x%3==0: return num(x/3)\n",
    "    if x%5==0: return num(x/5)\n",
    "n=int(input('Enter number=> '))\n",
    "#for n in range(1,n+1):\n",
    "#    if num(n): print(n,end=' ')\n",
    "y=[n for n in range(1,n+1) if num(n)]\n",
    "print(y,end=' ')"
   ]
  },
  {
   "cell_type": "code",
   "execution_count": 6,
   "id": "2f978d08",
   "metadata": {},
   "outputs": [
    {
     "name": "stdout",
     "output_type": "stream",
     "text": [
      "enter a number:11\n",
      "exp for 1 = 2^0*3^0*5^0\n",
      "exp for 2 = 2^1*3^0*5^0\n",
      "exp for 3 = 2^0*3^1*5^0\n",
      "exp for 4 = 2^2*3^0*5^0\n",
      "exp for 5 = 2^0*3^0*5^1\n",
      "exp for 6 = 2^1*3^1*5^0\n",
      "no such exp for 7\n",
      "exp for 8 = 2^3*3^0*5^0\n",
      "exp for 9 = 2^0*3^2*5^0\n",
      "exp for 10 = 2^1*3^0*5^1\n",
      "no such exp for 11\n"
     ]
    }
   ],
   "source": [
    "x=int(input(\"enter a number:\"))\n",
    "exp = lambda a,b,c:2**a*3**b*5**c\n",
    "for n in range(1,x+1):\n",
    "    z=0\n",
    "    for i in range(n):\n",
    "        for j in range(n):\n",
    "            for k in range(n):\n",
    "                if(exp(i,j,k)==n):\n",
    "                    print(f\"exp for {n} = 2^{i}*3^{j}*5^{k}\")\n",
    "                    z+=1\n",
    "    if(z==0): \n",
    "        print(f\"no such exp for {n}\")\n",
    "    "
   ]
  },
  {
   "cell_type": "code",
   "execution_count": null,
   "id": "46621f62",
   "metadata": {},
   "outputs": [],
   "source": []
  }
 ],
 "metadata": {
  "kernelspec": {
   "display_name": "Python 3",
   "language": "python",
   "name": "python3"
  },
  "language_info": {
   "codemirror_mode": {
    "name": "ipython",
    "version": 3
   },
   "file_extension": ".py",
   "mimetype": "text/x-python",
   "name": "python",
   "nbconvert_exporter": "python",
   "pygments_lexer": "ipython3",
   "version": "3.8.8"
  }
 },
 "nbformat": 4,
 "nbformat_minor": 5
}
