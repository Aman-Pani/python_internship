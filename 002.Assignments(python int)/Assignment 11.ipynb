{
 "cells": [
  {
   "cell_type": "code",
   "execution_count": 36,
   "id": "3750ae11",
   "metadata": {},
   "outputs": [
    {
     "name": "stdout",
     "output_type": "stream",
     "text": [
      "Number of  1 's:  95\n",
      "Number of  2 's:  78\n",
      "Number of  3 's:  77\n",
      "Number of  4 's:  81\n",
      "Number of  5 's:  97\n",
      "Number of  6 's:  72\n"
     ]
    }
   ],
   "source": [
    "#1. Assume a fair dice roll using a random integer generation code, \n",
    "#roll for 500 times and print the number of times 1 to 6 has appeared\n",
    "#Use randint\n",
    "import random\n",
    "dice_Data = [0, 0, 0, 0, 0, 0] \n",
    "n = 500 \n",
    "for i in range(n):\n",
    "    result = random.randint(1, 6)\n",
    "    dice_Data[result - 1] = dice_Data[result - 1] + 1\n",
    "for i in range(0, 6):\n",
    "    print (\"Number of \", i+1, \"'s: \", dice_Data[i])"
   ]
  },
  {
   "cell_type": "code",
   "execution_count": 55,
   "id": "9a66e78d",
   "metadata": {},
   "outputs": [
    {
     "name": "stdout",
     "output_type": "stream",
     "text": [
      "[[6, 8, 8, 2], [6, 2, 8, 4], [4, 6, 6, 4], [8, 6, 2, 2]]\n"
     ]
    }
   ],
   "source": [
    "#2. Run below code to generate a matrix as an input and print all the even numbers\n",
    "#mat = [[random.randint(1,10) for i in range(4)] for row in range(4)]\n",
    "import random\n",
    "mat = [[int(random.choice('2468')) for col in range(4)] for row in range(4)]\n",
    "print(mat)"
   ]
  },
  {
   "cell_type": "code",
   "execution_count": 118,
   "id": "c84962b6",
   "metadata": {},
   "outputs": [
    {
     "name": "stdout",
     "output_type": "stream",
     "text": [
      "The matrix is :: \n",
      "4  9  5  7  \n",
      "6  8  1  1  \n",
      "1  8  5  3  \n",
      "6  6  5  5  \n",
      "The even numbers present in that matrix are :: \n",
      "4  6  8  8  6  6  "
     ]
    }
   ],
   "source": [
    "import random\n",
    "print(\"The matrix is :: \")\n",
    "mat = [[random.randint(1,10) for col in range(4)] for row in range(4)]\n",
    "for i in range (0,4):\n",
    "    for j in mat[i]:\n",
    "        print(j,end = \"  \")\n",
    "    print()\n",
    "print(\"The even numbers present in that matrix are :: \")\n",
    "for i in mat :\n",
    "    for j  in i :\n",
    "        if j % 2 == 0:\n",
    "            print(j,end = \"  \")\n",
    "        else :\n",
    "            continue"
   ]
  },
  {
   "cell_type": "code",
   "execution_count": 5,
   "id": "7095ffa6",
   "metadata": {},
   "outputs": [
    {
     "name": "stdout",
     "output_type": "stream",
     "text": [
      "Enter number=> 12\n",
      "12 is a prime number....!!! FALSE\n"
     ]
    }
   ],
   "source": [
    "#3. Write a function to check if input number is a prime?\n",
    "#checking till sqrt(N) instead of N\n",
    "import math\n",
    "def isPrime(n):\n",
    "    if n <= 1:\n",
    "        return 0\n",
    "    for i in range(2, int(math.sqrt(n)+1)):\n",
    "        if n % i == 0:\n",
    "            return 0\n",
    "    return 1\n",
    "n=int(input('Enter number=> '))\n",
    "print(f'{n} is a prime number....!!!',end=' ')\n",
    "print(\"TRUE\") if isPrime(n) else print(\"FALSE\")"
   ]
  },
  {
   "cell_type": "code",
   "execution_count": 52,
   "id": "eee3daf1",
   "metadata": {},
   "outputs": [
    {
     "name": "stdout",
     "output_type": "stream",
     "text": [
      "Enter the number : 151\n",
      "A prime number\n"
     ]
    }
   ],
   "source": [
    "n=int(input(\"Enter the number : \"))\n",
    "from math import sqrt\n",
    "def prm(n):\n",
    "    if (n==1):\n",
    "        return \" Not a prime number\"\n",
    "    elif (n==2):\n",
    "        return \"A prime number\"\n",
    "    else:\n",
    "        for i in range(2,int(sqrt(n)+1)):\n",
    "            if(n % i==0):\n",
    "                return \" Not a prime number\" \n",
    "        return \"A prime number\"           \n",
    "print(prm(n))"
   ]
  },
  {
   "cell_type": "code",
   "execution_count": 1,
   "id": "c8ba17e9",
   "metadata": {},
   "outputs": [
    {
     "name": "stdout",
     "output_type": "stream",
     "text": [
      "The random character ->   u\n",
      "\n",
      "\n",
      "Length=  1\n",
      "B\n",
      "\n",
      "\n",
      "Enter length=> 5\n",
      "pCxGb\n"
     ]
    }
   ],
   "source": [
    "#4. Write a Python program to generate a random \n",
    "import string\n",
    "import random\n",
    "#i. alphabetical character, \n",
    "print(\"The random character ->  \",random.choice(string.ascii_letters))\n",
    "print('\\n')\n",
    "\n",
    "#ii. alphabetical string of arbitrary length \n",
    "a=int(random.randint(1,5))\n",
    "print('Length= ',a)\n",
    "result = ''.join(random.choices(string.ascii_letters, k=a))\n",
    "print(str(result))\n",
    "\n",
    "#iii. alphabetical string of a fixed length.\n",
    "print('\\n')\n",
    "n=int(input('Enter length=> '))\n",
    "res = ''.join(random.choices(string.ascii_letters, k=n))\n",
    "print(str(res))\n",
    "#Use random.choice"
   ]
  },
  {
   "cell_type": "code",
   "execution_count": 4,
   "id": "552f59e5",
   "metadata": {},
   "outputs": [
    {
     "name": "stdout",
     "output_type": "stream",
     "text": [
      "Enter last number=> 5\n",
      "[1, 3]\n"
     ]
    }
   ],
   "source": [
    "#5. Write a Python program to create a list of random integers and \n",
    "#randomly select multiple items from the said list.\n",
    "#Use random.sample\n",
    "import random\n",
    "end=int(input('Enter last number=> '))\n",
    "rand=int(random.randint(1,end))\n",
    "print(random.sample(range(end),rand))"
   ]
  }
 ],
 "metadata": {
  "kernelspec": {
   "display_name": "Python 3",
   "language": "python",
   "name": "python3"
  },
  "language_info": {
   "codemirror_mode": {
    "name": "ipython",
    "version": 3
   },
   "file_extension": ".py",
   "mimetype": "text/x-python",
   "name": "python",
   "nbconvert_exporter": "python",
   "pygments_lexer": "ipython3",
   "version": "3.8.8"
  }
 },
 "nbformat": 4,
 "nbformat_minor": 5
}
