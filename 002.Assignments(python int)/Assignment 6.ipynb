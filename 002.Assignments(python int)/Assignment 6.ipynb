{
 "cells": [
  {
   "cell_type": "code",
   "execution_count": 2,
   "id": "39b4b96e",
   "metadata": {},
   "outputs": [
    {
     "name": "stdout",
     "output_type": "stream",
     "text": [
      "Number of rabbits & chickens are 12 & 23 respectively\n"
     ]
    }
   ],
   "source": [
    "#rabbit & chicken\n",
    "head=35\n",
    "leg=94\n",
    "for i in range (head + 1):\n",
    "    j=head - i\n",
    "    if 2*i+4*j==leg:\n",
    "        print(f'Number of rabbits & chickens are {j} & {i} respectively')"
   ]
  },
  {
   "cell_type": "code",
   "execution_count": 13,
   "id": "dbac6b92",
   "metadata": {},
   "outputs": [
    {
     "name": "stdout",
     "output_type": "stream",
     "text": [
      "Input list1=> 1 2 3\n",
      "Input list2=> 1 2 3\n",
      "[('1', '2'), ('1', '3'), ('2', '1'), ('2', '3'), ('3', '1'), ('3', '2')]\n"
     ]
    }
   ],
   "source": [
    "#take 2 lists & pair the elements that are not equal\n",
    "x=input('Input list1=> ').split()\n",
    "y=input('Input list2=> ').split()\n",
    "output=[(a,b) for a in x for b in y if a!=b]\n",
    "print(output)"
   ]
  },
  {
   "cell_type": "code",
   "execution_count": 2,
   "id": "f2e435e9",
   "metadata": {},
   "outputs": [
    {
     "name": "stdout",
     "output_type": "stream",
     "text": [
      "Enter a sentence => f g f d g d \n",
      "f -> 2\n",
      "g -> 2\n",
      "d -> 2\n"
     ]
    }
   ],
   "source": [
    "#frequency of word in a sentences\n",
    "x=input('Enter a sentence => ').split()\n",
    "#f=[(w,x.count(w)) for w in x ]\n",
    "frequency=[]\n",
    "for i in x:\n",
    "    if i not in frequency:\n",
    "        frequency.append(i)\n",
    "#print(f)\n",
    "for i in frequency:\n",
    "    print(f'{i} -> {x.count(i)}')"
   ]
  },
  {
   "cell_type": "markdown",
   "id": "df67ff8a",
   "metadata": {},
   "source": [
    "# lab assignment"
   ]
  },
  {
   "cell_type": "code",
   "execution_count": 11,
   "id": "46598ac8",
   "metadata": {},
   "outputs": [
    {
     "data": {
      "text/plain": [
       "['even', 'odd', 'even', 'odd', 'even', 'odd', 'even', 'odd', 'even', 'odd']"
      ]
     },
     "execution_count": 11,
     "metadata": {},
     "output_type": "execute_result"
    }
   ],
   "source": [
    "[\"even\" if i%2==0 else \"odd\" for i in range(10)]"
   ]
  },
  {
   "cell_type": "code",
   "execution_count": 12,
   "id": "0d251475",
   "metadata": {},
   "outputs": [
    {
     "ename": "SyntaxError",
     "evalue": "invalid syntax (<ipython-input-12-8a0206ae286e>, line 1)",
     "output_type": "error",
     "traceback": [
      "\u001b[1;36m  File \u001b[1;32m\"<ipython-input-12-8a0206ae286e>\"\u001b[1;36m, line \u001b[1;32m1\u001b[0m\n\u001b[1;33m    [i for i in range(100) \"even\" if i%2==0 \"odd\" if i%2==1]\u001b[0m\n\u001b[1;37m                           ^\u001b[0m\n\u001b[1;31mSyntaxError\u001b[0m\u001b[1;31m:\u001b[0m invalid syntax\n"
     ]
    }
   ],
   "source": [
    "[i for i in range(100) \"even\" if i%2==0 \"odd\" if i%2==1]"
   ]
  },
  {
   "cell_type": "code",
   "execution_count": 14,
   "id": "c39663e5",
   "metadata": {},
   "outputs": [
    {
     "data": {
      "text/plain": [
       "[0, 10, 20, 30, 40, 50, 60, 70, 80, 90]"
      ]
     },
     "execution_count": 14,
     "metadata": {},
     "output_type": "execute_result"
    }
   ],
   "source": [
    "[y for y in range(100) if y % 2 == 0 if y % 5 == 0]"
   ]
  },
  {
   "cell_type": "code",
   "execution_count": 15,
   "id": "7610d1e7",
   "metadata": {},
   "outputs": [
    {
     "data": {
      "text/plain": [
       "10"
      ]
     },
     "execution_count": 15,
     "metadata": {},
     "output_type": "execute_result"
    }
   ],
   "source": [
    "a=15\n",
    "b=5\n",
    "(a^b)"
   ]
  }
 ],
 "metadata": {
  "kernelspec": {
   "display_name": "Python 3",
   "language": "python",
   "name": "python3"
  },
  "language_info": {
   "codemirror_mode": {
    "name": "ipython",
    "version": 3
   },
   "file_extension": ".py",
   "mimetype": "text/x-python",
   "name": "python",
   "nbconvert_exporter": "python",
   "pygments_lexer": "ipython3",
   "version": "3.8.8"
  }
 },
 "nbformat": 4,
 "nbformat_minor": 5
}
