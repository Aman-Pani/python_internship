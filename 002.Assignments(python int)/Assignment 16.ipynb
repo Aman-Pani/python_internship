{
 "cells": [
  {
   "cell_type": "code",
   "execution_count": null,
   "id": "cb2ff05f",
   "metadata": {},
   "outputs": [],
   "source": [
    "1. Implement the circle problem in object oriented:\n",
    "    a. Create a circle class\n",
    "    b. Take center coordinates and radius as attributes\n",
    "    c. Define all related functions within the class like\n",
    "          i. Area\n",
    "         ii. Perimeter\n",
    "        iii. Center distance from origin\n",
    "         iv. Circumference distance from origin\n",
    "    d. Handle any exceptions and Not valid scenarios\n"
   ]
  },
  {
   "cell_type": "code",
   "execution_count": 51,
   "id": "44b49830",
   "metadata": {},
   "outputs": [
    {
     "name": "stdout",
     "output_type": "stream",
     "text": [
      "Area of circle is 78.5 sq.unit.\n",
      "\n",
      "Perimeter of circle is 31.400000000000002 unit.\n",
      "\n",
      "Center distance from origin is 5.656854249492381\n",
      "\n",
      "Origin lies out-side the circle.\n",
      "Distance from circumference is 0.6568542494923806\n"
     ]
    }
   ],
   "source": [
    "class Circle():\n",
    "    def __init__(self,x,y,r):\n",
    "        self.x = x\n",
    "        self.y = y\n",
    "        self.r = r\n",
    "\n",
    "    def Area(self):\n",
    "        print(f'Area of circle is {self.r**2*3.14} sq.unit.\\n')\n",
    "    \n",
    "    def Perimeter(self):\n",
    "        print(f'Perimeter of circle is {2*self.r*3.14} unit.\\n')\n",
    "    \n",
    "    def CenterToOrigin(self):\n",
    "        import math\n",
    "        print(f'Center distance from origin is { math.sqrt(self.x**2 + self.y**2) }\\n')\n",
    "    \n",
    "    def CircumferenceToOrigin(self):\n",
    "        import math\n",
    "        if   (math.sqrt(self.x**2 + self.y**2) < self.r):\n",
    "            print(f'Origin lies in-side the circle.\\nDistance from circumference is {self.r - math.sqrt(self.x**2 + self.y**2)}')\n",
    "        elif (math.sqrt(self.x**2 + self.y**2) > self.r):\n",
    "            print(f'Origin lies out-side the circle.\\nDistance from circumference is {math.sqrt(self.x**2 + self.y**2) - self.r}')   \n",
    "        else:\n",
    "            print('Origin lies on circumference.\\nSo distance from circumference is 0(Zero).')\n",
    "            \n",
    "crcl = Circle(4,4,5)\n",
    "crcl.Area()\n",
    "crcl.Perimeter()\n",
    "crcl.CenterToOrigin()\n",
    "crcl.CircumferenceToOrigin()"
   ]
  },
  {
   "cell_type": "code",
   "execution_count": 5,
   "id": "e698b1a5",
   "metadata": {},
   "outputs": [
    {
     "name": "stdout",
     "output_type": "stream",
     "text": [
      "enter radius : 5\n",
      "enter x-coordinate : 4\n",
      "enter y-coordinate : 4\n",
      "78.5\n",
      "31.400000000000002\n",
      "31.41592653589793\n",
      "4.0\n",
      "-1.0\n"
     ]
    }
   ],
   "source": [
    "class Circle():\n",
    "    def __init__(self,x,y,r):\n",
    "        self.x = x\n",
    "        self.y = y\n",
    "        self.r = r\n",
    "\n",
    "    def area(self):\n",
    "        try:\n",
    "            return self.r**2*3.14\n",
    "        except TypeError:\n",
    "            print(\"passing strings or characters\") \n",
    "    \n",
    "    def perimeter(self):\n",
    "        try:\n",
    "            return 2*self.r*3.14\n",
    "        except TypeError:\n",
    "            print(\"Please avoid passing strings or characters\")\n",
    "        \n",
    "    \n",
    "    def circle_circum(self):\n",
    "        try:\n",
    "            from math import pi\n",
    "            return 2*pi*(self.r)\n",
    "        except TypeError:\n",
    "            print(\"Please avoid passing strings or characters\")\n",
    "    \n",
    "    def cfodist(self):\n",
    "        try:\n",
    "            from math import sqrt\n",
    "            return sqrt((self.x**2) + (self.y**2))\n",
    "        except TypeError:\n",
    "            print(\"Please avoid passing strings or characters\")\n",
    "    \n",
    "    def cdist(self):\n",
    "        try:\n",
    "            from math import sqrt\n",
    "            return sqrt((self.x**2) + (self.y**2)) - r\n",
    "        except TypeError:\n",
    "            print(\"Please avoid passing strings or characters\") \n",
    "        \n",
    "    \n",
    "r = float(input(\"enter radius : \"))\n",
    "x = float(input(\"enter x-coordinate : \"))\n",
    "y = float(input(\"enter y-coordinate : \"))    \n",
    "\n",
    "c = Circle(x, y, r)\n",
    "print(c.area())\n",
    "print(c.perimeter())\n",
    "print(c.circleCircum())\n",
    "print(c.cfodist())\n",
    "print(c.cdist())"
   ]
  },
  {
   "cell_type": "code",
   "execution_count": null,
   "id": "bbc3a836",
   "metadata": {},
   "outputs": [],
   "source": [
    "2. Write a Python program to get all possible unique subsets from a set of distinct integers.\n",
    "Input: [4, 5, 6]\n",
    "Output : [[], [6], [5], [5, 6], [4], [4, 6], [4, 5], [4, 5, 6]]\n"
   ]
  },
  {
   "cell_type": "code",
   "execution_count": 5,
   "id": "6a7dc8f7",
   "metadata": {},
   "outputs": [
    {
     "name": "stdout",
     "output_type": "stream",
     "text": [
      "Enter elements=> 6 5 4\n",
      "[[], [6], [5], [5, 6], [4], [4, 6], [4, 5], [4, 5, 6]]\n"
     ]
    }
   ],
   "source": [
    "class subsets:\n",
    "    def function1(self,s1):\n",
    "        return self.function2([],sorted(s1))#,sorted(s1)\n",
    "    \n",
    "    def function2(self,curr,s1):\n",
    "        if(s1):\n",
    "            return self.function2(curr, s1[1:]) + self.function2(curr + [s1[0]], s1[1:])\n",
    "        return [curr]\n",
    "lst=input('Enter elements=> ').split( )\n",
    "lst=[int(i) for i in lst]\n",
    "#print(lst)\n",
    "print(subsets().function1(lst))\n"
   ]
  },
  {
   "cell_type": "code",
   "execution_count": 21,
   "id": "a50e06d9",
   "metadata": {},
   "outputs": [
    {
     "name": "stdout",
     "output_type": "stream",
     "text": [
      "[5, 6]\n"
     ]
    }
   ],
   "source": [
    "s1=[4,5,6]\n",
    "print(s1[1:])\n"
   ]
  },
  {
   "cell_type": "code",
   "execution_count": null,
   "id": "5e02edea",
   "metadata": {},
   "outputs": [],
   "source": [
    "3. Write a Python class to find the three elements that sum to zero from a set (array) of n real numbers.\n",
    "Input array : [-25, -10, -7, -3, 2, 4, 8, 10]\n",
    "Output : [[-10, 2, 8], [-7, -3, 10]]"
   ]
  },
  {
   "cell_type": "code",
   "execution_count": 3,
   "id": "42064e02",
   "metadata": {},
   "outputs": [
    {
     "name": "stdout",
     "output_type": "stream",
     "text": [
      "[[-10, 2, 8], [-7, -3, 10]]\n",
      "0.0\n"
     ]
    }
   ],
   "source": [
    "import time\n",
    "class SumElementZero:\n",
    "    def TrioSum(self, nums):\n",
    "        nums, result, i = sorted(nums), [], 0\n",
    "        while i < len(nums) - 2:\n",
    "            j, k = i + 1, len(nums) - 1\n",
    "            while j < k:\n",
    "                if nums[i] + nums[j] + nums[k] < 0:\n",
    "                    j += 1\n",
    "                elif nums[i] + nums[j] + nums[k] > 0:\n",
    "                    k -= 1\n",
    "                else:\n",
    "                    result.append([nums[i], nums[j], nums[k]])\n",
    "                    j, k = j + 1, k - 1\n",
    "            i += 1\n",
    "        return result\n",
    "s=time.time()\n",
    "print(SumElementZero().TrioSum([-25, -10, -7, -3, 2, 4, 8, 10]))\n",
    "print(time.time()-s)"
   ]
  },
  {
   "cell_type": "code",
   "execution_count": null,
   "id": "b2e96b0f",
   "metadata": {},
   "outputs": [],
   "source": [
    "class zerosum:\n",
    "    def _init_(self,list1):\n",
    "        self.list1=list1\n",
    "        \n",
    "    def check(self):\n",
    "        list2=[]\n",
    "        n=len(self.list1)\n",
    "        for i in range(0,n-2):\n",
    "            for j in range(i+1,n-1):\n",
    "                for k in range(j+1,n):\n",
    "                    if(self.list1[i] + self.list1[j] + self.list1[k]==0):\n",
    "                        #-25 + (-10) + (-7)\n",
    "                        list2.append([self.list1[i],self.list1[j],self.list1[k]])\n",
    "                        \n",
    "        if(len(list2)!=0):\n",
    "            return list2\n",
    "        else:\n",
    "            print(\"No combination found\")\n",
    "            \n",
    "            \n",
    "user_list=[-25,-10,-7,-3,2,4,8,10]\n",
    "final_list=zerosum(user_list).check()\n",
    "print(final_list)"
   ]
  },
  {
   "cell_type": "code",
   "execution_count": 8,
   "id": "1db86660",
   "metadata": {},
   "outputs": [
    {
     "data": {
      "text/plain": [
       "'f'"
      ]
     },
     "execution_count": 8,
     "metadata": {},
     "output_type": "execute_result"
    }
   ],
   "source": [
    "chr(ord('a')+5)"
   ]
  },
  {
   "cell_type": "code",
   "execution_count": 9,
   "id": "5b206fe1",
   "metadata": {},
   "outputs": [
    {
     "name": "stdout",
     "output_type": "stream",
     "text": [
      "('a', 'c')\n"
     ]
    }
   ],
   "source": [
    "x=('a','c')\n",
    "for i in x:\n",
    "    i.upper()\n",
    "print(x)"
   ]
  },
  {
   "cell_type": "code",
   "execution_count": 7,
   "id": "1355425c",
   "metadata": {},
   "outputs": [
    {
     "name": "stdout",
     "output_type": "stream",
     "text": [
      "[]\n"
     ]
    }
   ],
   "source": [
    "w=[4,5,6]\n",
    "print(w[:0])"
   ]
  }
 ],
 "metadata": {
  "kernelspec": {
   "display_name": "Python 3",
   "language": "python",
   "name": "python3"
  },
  "language_info": {
   "codemirror_mode": {
    "name": "ipython",
    "version": 3
   },
   "file_extension": ".py",
   "mimetype": "text/x-python",
   "name": "python",
   "nbconvert_exporter": "python",
   "pygments_lexer": "ipython3",
   "version": "3.8.8"
  }
 },
 "nbformat": 4,
 "nbformat_minor": 5
}
