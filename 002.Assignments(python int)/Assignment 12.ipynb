{
 "cells": [
  {
   "cell_type": "code",
   "execution_count": 14,
   "id": "86d3d522",
   "metadata": {},
   "outputs": [
    {
     "name": "stdout",
     "output_type": "stream",
     "text": [
      "Enter the coordinates of center and radius of 1st cicle (x1 y1 r1) :: 0 0 10\n",
      "Enter the coordinates of center and radius of 2nd cicle (x2 y2 r2) :: 0 1 5\n",
      "Circle not intersect to each other.\n"
     ]
    }
   ],
   "source": [
    "#1. Given attributes (x,y,r) for two circles. Identify if the circles \"intersect\",\"touch\" or \"Not intersect“\n",
    "def circle(x1, y1, x2, y2, r1, r2):\n",
    "    distSq = (x1 - x2) **2 + (y1 - y2) **2\n",
    "    radSumSq = (r1 + r2) **2\n",
    "    radSubSq = (r1 - r2) **2\n",
    "    if (distSq == radSumSq) or (distSq == radSubSq):\n",
    "        return 1\n",
    "    elif (distSq > radSumSq) or (distSq < radSubSq) or (distSq==0) :\n",
    "        return -1\n",
    "    else:\n",
    "        return 0\n",
    "\n",
    "c1 = input(\"Enter the coordinates of center and radius of 1st cicle (x1 y1 r1) :: \").split( )\n",
    "c2 = input(\"Enter the coordinates of center and radius of 2nd cicle (x2 y2 r2) :: \").split( )\n",
    "if int(c1[2]) < 0 or int(c2[2]) < 0:\n",
    "    print(\"You have entered a negative radius .\")\n",
    "else:\n",
    "    t = circle(int(c1[0]),int(c1[1]),int(c2[0]),int(c2[1]),int(c1[2]),int(c2[2]))\n",
    "    if (t == 1):\n",
    "        print(\"Circle touch to each other.\")\n",
    "    elif (t < 0):\n",
    "        print(\"Circle not intersect to each other.\")\n",
    "    else:\n",
    "        print(\"Circle intersect to each other.\")"
   ]
  },
  {
   "cell_type": "code",
   "execution_count": 5,
   "id": "13141d62",
   "metadata": {},
   "outputs": [
    {
     "name": "stdout",
     "output_type": "stream",
     "text": [
      "Enter an expression :: [)\n",
      "The expression is paranthesis balanced\n"
     ]
    }
   ],
   "source": [
    "#2. Given a string containing just the characters '(', ')', '{', '}', '['and ']', determine if the input string is valid.\n",
    "#Examples:\n",
    "#Input: \"()\" Output: Valid\n",
    "#Input: \"()[]{}\" Output: Valid\n",
    "#Input: \"([)]\" Output: Not Valid\n",
    "a = input(\"Enter an expression :: \")\n",
    "c = 0\n",
    "for i in a:\n",
    "    if   i == \"(\":   c += 1\n",
    "    elif i == \"{\":   c += 1\n",
    "    elif i == \"[\":   c += 1\n",
    "    elif i == \")\":   c -= 1\n",
    "    elif i == \"}\":   c -= 1\n",
    "    elif i == \"]\":   c -= 1\n",
    "    else         :   continue\n",
    "\n",
    "if c == 0:\n",
    "    print(\"The expression is paranthesis balanced\")\n",
    "else:\n",
    "    print(\"The expression is not paranthesis balanced\")"
   ]
  },
  {
   "cell_type": "code",
   "execution_count": 9,
   "id": "d0eadd98",
   "metadata": {},
   "outputs": [
    {
     "name": "stdout",
     "output_type": "stream",
     "text": [
      "Enter Paranthesis: (}\n",
      "(}\n",
      "INVALID\n"
     ]
    }
   ],
   "source": [
    "string = input(\"Enter Paranthesis: \")\n",
    "while(len(string)>0):\n",
    "    l = len(string)\n",
    "    string = string.replace('()','')\n",
    "    string = string.replace('{}','')\n",
    "    string = string.replace('[]','')\n",
    "    if(l == len(string)):\n",
    "        break\n",
    "print(string)\n",
    "if(len(string) == 0):\n",
    "    print(\"VAlID\")\n",
    "else:\n",
    "    print(\"INVALID\")"
   ]
  },
  {
   "cell_type": "code",
   "execution_count": 29,
   "id": "38a26124",
   "metadata": {},
   "outputs": [
    {
     "name": "stdout",
     "output_type": "stream",
     "text": [
      "Enter the number of rows of 1st matrix :: 3\n",
      "Enter the number of columns of 1st matrix :: 3\n",
      "Enter (0,0) element :: 12\n",
      "Enter (0,1) element :: 7\n",
      "Enter (0,2) element :: 3\n",
      "Enter (1,0) element :: 4\n",
      "Enter (1,1) element :: 5\n",
      "Enter (1,2) element :: 6\n",
      "Enter (2,0) element :: 7\n",
      "Enter (2,1) element :: 8\n",
      "Enter (2,2) element :: 9\n",
      "Your entered matrix 1 is :: \n",
      "12 7 3 \n",
      "4 5 6 \n",
      "7 8 9 \n",
      "Enter the number of rows of 2nd matrix :: 3\n",
      "Enter the number of columns of 2nd matrix :: 4\n",
      "Enter (0,0) element :: 5\n",
      "Enter (0,1) element :: 8\n",
      "Enter (0,2) element :: 1\n",
      "Enter (0,3) element :: 2\n",
      "Enter (1,0) element :: 6\n",
      "Enter (1,1) element :: 7\n",
      "Enter (1,2) element :: 3\n",
      "Enter (1,3) element :: 0\n",
      "Enter (2,0) element :: 4\n",
      "Enter (2,1) element :: 5\n",
      "Enter (2,2) element :: 9\n",
      "Enter (2,3) element :: 1\n",
      "Your entered matrix 2 is :: \n",
      "5 8 1 2 \n",
      "6 7 3 0 \n",
      "4 5 9 1 \n",
      "After multiplying the matrix the result is :: \n",
      "114 160 60 27 \n",
      "74 97 73 14 \n",
      "119 157 112 23 \n"
     ]
    }
   ],
   "source": [
    "#3. Write a program that takes two matrices as input and does matrix multiplication (Naive approach)\n",
    "#Example:\n",
    "\n",
    "R1 = int(input(\"Enter the number of rows of 1st matrix :: \"))\n",
    "C1= int(input(\"Enter the number of columns of 1st matrix :: \"))\n",
    "matrix1 = []\n",
    "for i in range(R1):           \n",
    "    a = []\n",
    "    for j in range(C1):    \n",
    "        a.append(int(input(f\"Enter ({i},{j}) element :: \")))\n",
    "    matrix1.append(a)\n",
    "print(\"Your entered matrix 1 is :: \")\n",
    "for i in range(R1):\n",
    "    for j in range(C1):\n",
    "        print(matrix1[i][j], end = \" \")\n",
    "    print()\n",
    "R2 = int(input(\"Enter the number of rows of 2nd matrix :: \"))\n",
    "C2 = int(input(\"Enter the number of columns of 2nd matrix :: \"))\n",
    "matrix2 = []\n",
    "for i in range(R2):           \n",
    "    a = []\n",
    "    for j in range(C2):    \n",
    "        a.append(int(input(f\"Enter ({i},{j}) element :: \")))\n",
    "    matrix2.append(a)\n",
    "print(\"Your entered matrix 2 is :: \")\n",
    "for i in range(R2):\n",
    "    for j in range(C2):\n",
    "        print(matrix2[i][j], end = \" \")\n",
    "    print()\n",
    "result = []\n",
    "if R2 != C1:\n",
    "    print(\"Matrix multiplication not possible .\")\n",
    "else:\n",
    "    result = []\n",
    "    for i in range (R1):\n",
    "        s = []\n",
    "        for j in range (C2):\n",
    "            s.append(0)\n",
    "        result.append(s)\n",
    "    for i in range (R1):\n",
    "        for j in range (C2):\n",
    "            for k in range (R2):\n",
    "                result[i][j] += matrix1[i][k] * matrix2[k][j]\n",
    "    print(\"After multiplying the matrix the result is :: \")\n",
    "    for i in range (R1):\n",
    "        for j in range (C2):\n",
    "            print(result[i][j],end = \"  \")\n",
    "        print()\n",
    "#Input\n",
    "#Take a 3x3 matrix\n",
    "#A = [[12, 7, 3],[ 4, 5, 6],[ 7, 8, 9]]\n",
    "#Take a 3x4 matrix\n",
    "#B = [[5, 8, 1, 2],[6, 7, 3, 0],[4, 5, 9, 1]]\n",
    "#Output =[[114, 160, 60, 27],[ 74, 97, 73, 14],[119, 157, 112, 23]]"
   ]
  },
  {
   "cell_type": "code",
   "execution_count": 25,
   "id": "43530775",
   "metadata": {},
   "outputs": [
    {
     "name": "stdout",
     "output_type": "stream",
     "text": [
      "[114, 160, 60, 27]\n",
      "[74, 97, 73, 14]\n",
      "[119, 157, 112, 23]\n"
     ]
    }
   ],
   "source": [
    "X = [[12, 7, 3],[ 4, 5, 6],[ 7, 8, 9]]\n",
    "Y = [[5, 8, 1, 2],[6, 7, 3, 0],[4, 5, 9, 1]]\n",
    "result = [[0,0,0,0],[0,0,0,0],[0,0,0,0]]\n",
    "# iterate through rows of X\n",
    "for i in range(len(X)):\n",
    "   # iterate through columns of Y\n",
    "   for j in range(len(Y[0])):\n",
    "       # iterate through rows of Y\n",
    "       for k in range(len(Y)):\n",
    "            result[i][j] += X[i][k] * Y[k][j]\n",
    "\n",
    "for r in result:\n",
    "    print(r)"
   ]
  },
  {
   "cell_type": "code",
   "execution_count": 3,
   "id": "d5dcf574",
   "metadata": {},
   "outputs": [
    {
     "name": "stdout",
     "output_type": "stream",
     "text": [
      "[114, 160, 60, 27]\n",
      "[74, 97, 73, 14]\n",
      "[119, 157, 112, 23]\n"
     ]
    }
   ],
   "source": [
    "X= [[12,7,3],\n",
    "    [4,5,6],\n",
    "    [7,8,9]]\n",
    "\n",
    "Y = [[5,8,1,2],\n",
    "    [6,7,3,0],\n",
    "    [4,5,9,1]]\n",
    "\n",
    "result=[[sum(a*b for a,b in zip(X_row,Y_col)) for Y_col in zip(*Y)] for X_row in X]\n",
    "for r in result:\n",
    "       print(r)"
   ]
  },
  {
   "cell_type": "code",
   "execution_count": 30,
   "id": "6e2cc2e1",
   "metadata": {},
   "outputs": [
    {
     "name": "stdout",
     "output_type": "stream",
     "text": [
      "Enter (0,0) element :: 1\n",
      "Enter (0,1) element :: 2\n",
      "Enter (1,0) element :: 2\n",
      "Enter (1,1) element :: 1\n",
      "Your entered matrix is :: \n",
      "1 2 \n",
      "2 1 \n",
      "The determinant of the entered matrix is ::  -3\n"
     ]
    }
   ],
   "source": [
    "#4. Take a 2X2 square matrix as input and calculate the determinant.\n",
    "R = 2\n",
    "C = 2\n",
    "matrix = []\n",
    "for i in range(R):           \n",
    "    a = []\n",
    "    for j in range(C):    \n",
    "        a.append(int(input(f\"Enter ({i},{j}) element :: \")))\n",
    "    matrix.append(a)\n",
    "print(\"Your entered matrix is :: \")\n",
    "for i in range(R):\n",
    "    for j in range(C):\n",
    "        print(matrix[i][j], end = \" \")\n",
    "    print()\n",
    "print(\"The determinant of the entered matrix is :: \",(matrix[0][0] * matrix[1][1]) - (matrix[1][0] * matrix[0][1]))"
   ]
  },
  {
   "cell_type": "code",
   "execution_count": 23,
   "id": "73417c53",
   "metadata": {},
   "outputs": [
    {
     "name": "stdout",
     "output_type": "stream",
     "text": [
      "2\n"
     ]
    }
   ],
   "source": [
    "m=[[1,0],\n",
    "   [0,2]]\n",
    "det=m[0][0]*m[1][1]-m[0][1]*m[1][0]\n",
    "print(det)"
   ]
  },
  {
   "cell_type": "code",
   "execution_count": 32,
   "id": "4fa3d66c",
   "metadata": {},
   "outputs": [
    {
     "name": "stdout",
     "output_type": "stream",
     "text": [
      "Enter a string :: casfdbgfaebafbaf\n",
      "After removing duplicate elements the string is :: c a s f d b g e \n",
      "After removing all the special characters the string is :: c a s f d b g e \n",
      "After changing the case of each character the string is :: C A S F D B G E "
     ]
    }
   ],
   "source": [
    "#5. Take a string as input and do the following without using any string functions:\n",
    "#i. Remove if there are any duplicates\n",
    "#ii. Remove if there are any special characters\n",
    "#iii. Change the case of each character\n",
    "s = input(\"Enter a string :: \")\n",
    "a = []\n",
    "print(\"After removing duplicate elements the string is :: \",end = \"\")            # 1. Removing duplicates #\n",
    "for i in s:\n",
    "    if i not in a:\n",
    "        a.append(i)\n",
    "        print(i,end = \" \")\n",
    "print()\n",
    "print(\"After removing all the special characters the string is :: \",end =\"\")     # 2. Removing special characters\n",
    "sp = [\"!\",\"@\",\"#\",\"$\",\"%\",\"^\",\"&\",\"*\",\",\"]\n",
    "a2 = []\n",
    "for i in a:\n",
    "    if i not in sp:\n",
    "        a2.append(i)\n",
    "        print(i,end = \" \")\n",
    "print()\n",
    "print(\"After changing the case of each character the string is :: \",end =\"\")     # 3. Change the case of each character\n",
    "for i in a2:\n",
    "    if i.islower():\n",
    "        print(i.upper(),end = \" \")\n",
    "    elif i.isupper():\n",
    "        print(i.lower(),end = \" \")"
   ]
  }
 ],
 "metadata": {
  "kernelspec": {
   "display_name": "Python 3",
   "language": "python",
   "name": "python3"
  },
  "language_info": {
   "codemirror_mode": {
    "name": "ipython",
    "version": 3
   },
   "file_extension": ".py",
   "mimetype": "text/x-python",
   "name": "python",
   "nbconvert_exporter": "python",
   "pygments_lexer": "ipython3",
   "version": "3.8.8"
  }
 },
 "nbformat": 4,
 "nbformat_minor": 5
}
