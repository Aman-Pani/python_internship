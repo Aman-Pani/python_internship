{
 "cells": [
  {
   "cell_type": "code",
   "execution_count": 36,
   "id": "d182e4e4",
   "metadata": {},
   "outputs": [
    {
     "ename": "ZeroDivisionError",
     "evalue": "division by zero",
     "output_type": "error",
     "traceback": [
      "\u001b[1;31m---------------------------------------------------------------------------\u001b[0m",
      "\u001b[1;31mZeroDivisionError\u001b[0m                         Traceback (most recent call last)",
      "\u001b[1;32m<ipython-input-36-b09080c4254d>\u001b[0m in \u001b[0;36m<module>\u001b[1;34m\u001b[0m\n\u001b[0;32m      2\u001b[0m \u001b[0ma\u001b[0m\u001b[1;33m=\u001b[0m\u001b[1;36m3\u001b[0m\u001b[1;33m\u001b[0m\u001b[1;33m\u001b[0m\u001b[0m\n\u001b[0;32m      3\u001b[0m \u001b[1;32mif\u001b[0m \u001b[0ma\u001b[0m \u001b[1;33m<\u001b[0m \u001b[1;36m4\u001b[0m \u001b[1;33m:\u001b[0m\u001b[1;33m\u001b[0m\u001b[1;33m\u001b[0m\u001b[0m\n\u001b[1;32m----> 4\u001b[1;33m     \u001b[0ma\u001b[0m\u001b[1;33m=\u001b[0m\u001b[0ma\u001b[0m\u001b[1;33m/\u001b[0m\u001b[1;33m(\u001b[0m\u001b[0ma\u001b[0m\u001b[1;33m-\u001b[0m\u001b[1;36m3\u001b[0m\u001b[1;33m)\u001b[0m\u001b[1;33m\u001b[0m\u001b[1;33m\u001b[0m\u001b[0m\n\u001b[0m\u001b[0;32m      5\u001b[0m     \u001b[0mprint\u001b[0m\u001b[1;33m(\u001b[0m\u001b[0ma\u001b[0m\u001b[1;33m)\u001b[0m\u001b[1;33m\u001b[0m\u001b[1;33m\u001b[0m\u001b[0m\n",
      "\u001b[1;31mZeroDivisionError\u001b[0m: division by zero"
     ]
    }
   ],
   "source": [
    "#1. Name and handle the exception occurred in the following program: \n",
    "a=3\n",
    "if a < 4 :\n",
    "    a=a/(a-3)\n",
    "    print(a)\n"
   ]
  },
  {
   "cell_type": "code",
   "execution_count": 37,
   "id": "5bb1062f",
   "metadata": {},
   "outputs": [
    {
     "name": "stdout",
     "output_type": "stream",
     "text": [
      "Handling run time error: division by zero\n"
     ]
    }
   ],
   "source": [
    "try:\n",
    "    a=3\n",
    "    if a < 4 :\n",
    "        a=a/(a-3)\n",
    "        print(a)\n",
    "except ZeroDivisionError as err:\n",
    "    print('Handling run time error:',err)"
   ]
  },
  {
   "cell_type": "code",
   "execution_count": 4,
   "id": "9fb72cbe",
   "metadata": {},
   "outputs": [
    {
     "ename": "IndexError",
     "evalue": "list index out of range",
     "output_type": "error",
     "traceback": [
      "\u001b[1;31m---------------------------------------------------------------------------\u001b[0m",
      "\u001b[1;31mIndexError\u001b[0m                                Traceback (most recent call last)",
      "\u001b[1;32m<ipython-input-4-3dd6416cb165>\u001b[0m in \u001b[0;36m<module>\u001b[1;34m\u001b[0m\n\u001b[0;32m      1\u001b[0m \u001b[1;31m#2. Name and handle the exception occurred in the following program:\u001b[0m\u001b[1;33m\u001b[0m\u001b[1;33m\u001b[0m\u001b[1;33m\u001b[0m\u001b[0m\n\u001b[0;32m      2\u001b[0m \u001b[0ml\u001b[0m\u001b[1;33m=\u001b[0m\u001b[1;33m[\u001b[0m\u001b[1;36m1\u001b[0m\u001b[1;33m,\u001b[0m\u001b[1;36m2\u001b[0m\u001b[1;33m,\u001b[0m\u001b[1;36m3\u001b[0m\u001b[1;33m]\u001b[0m\u001b[1;33m\u001b[0m\u001b[1;33m\u001b[0m\u001b[0m\n\u001b[1;32m----> 3\u001b[1;33m \u001b[0mprint\u001b[0m\u001b[1;33m(\u001b[0m\u001b[0ml\u001b[0m\u001b[1;33m[\u001b[0m\u001b[1;36m3\u001b[0m\u001b[1;33m]\u001b[0m\u001b[1;33m)\u001b[0m\u001b[1;33m\u001b[0m\u001b[1;33m\u001b[0m\u001b[0m\n\u001b[0m",
      "\u001b[1;31mIndexError\u001b[0m: list index out of range"
     ]
    }
   ],
   "source": [
    "#2. Name and handle the exception occurred in the following program: \n",
    "l=[1,2,3]\n",
    "print(l[3])"
   ]
  },
  {
   "cell_type": "code",
   "execution_count": 3,
   "id": "0016ab59",
   "metadata": {},
   "outputs": [
    {
     "name": "stdout",
     "output_type": "stream",
     "text": [
      "Index=> 1\n",
      "2\n"
     ]
    }
   ],
   "source": [
    "while True:\n",
    "    try:\n",
    "        l=[1,2,3]\n",
    "        print(l[int(input('Index=> '))])\n",
    "        break\n",
    "    except IndexError:\n",
    "        print('Enter valid index !!!')\n"
   ]
  },
  {
   "cell_type": "code",
   "execution_count": 58,
   "id": "e22bb9ce",
   "metadata": {},
   "outputs": [
    {
     "name": "stdout",
     "output_type": "stream",
     "text": [
      "Division by zero\n",
      "executing finally clause\n",
      "Result => 3.0\n",
      "executing finally clause\n",
      "executing finally clause\n"
     ]
    },
    {
     "ename": "TypeError",
     "evalue": "can only concatenate str (not \"int\") to str",
     "output_type": "error",
     "traceback": [
      "\u001b[1;31m---------------------------------------------------------------------------\u001b[0m",
      "\u001b[1;31mTypeError\u001b[0m                                 Traceback (most recent call last)",
      "\u001b[1;32m<ipython-input-58-0ace20e11d97>\u001b[0m in \u001b[0;36m<module>\u001b[1;34m\u001b[0m\n\u001b[0;32m     12\u001b[0m \u001b[0mcheck\u001b[0m\u001b[1;33m(\u001b[0m\u001b[1;36m2\u001b[0m\u001b[1;33m,\u001b[0m\u001b[1;36m2\u001b[0m\u001b[1;33m)\u001b[0m\u001b[1;33m\u001b[0m\u001b[1;33m\u001b[0m\u001b[0m\n\u001b[0;32m     13\u001b[0m \u001b[0mcheck\u001b[0m\u001b[1;33m(\u001b[0m\u001b[1;36m2\u001b[0m\u001b[1;33m,\u001b[0m\u001b[1;36m1\u001b[0m\u001b[1;33m)\u001b[0m\u001b[1;33m\u001b[0m\u001b[1;33m\u001b[0m\u001b[0m\n\u001b[1;32m---> 14\u001b[1;33m \u001b[0mcheck\u001b[0m\u001b[1;33m(\u001b[0m\u001b[1;34m'2'\u001b[0m\u001b[1;33m,\u001b[0m\u001b[1;36m2\u001b[0m\u001b[1;33m)\u001b[0m\u001b[1;33m\u001b[0m\u001b[1;33m\u001b[0m\u001b[0m\n\u001b[0m",
      "\u001b[1;32m<ipython-input-58-0ace20e11d97>\u001b[0m in \u001b[0;36mcheck\u001b[1;34m(a, b)\u001b[0m\n\u001b[0;32m      3\u001b[0m \u001b[1;32mdef\u001b[0m \u001b[0mcheck\u001b[0m\u001b[1;33m(\u001b[0m\u001b[0ma\u001b[0m\u001b[1;33m,\u001b[0m\u001b[0mb\u001b[0m\u001b[1;33m)\u001b[0m\u001b[1;33m:\u001b[0m\u001b[1;33m\u001b[0m\u001b[1;33m\u001b[0m\u001b[0m\n\u001b[0;32m      4\u001b[0m     \u001b[1;32mtry\u001b[0m\u001b[1;33m:\u001b[0m\u001b[1;33m\u001b[0m\u001b[1;33m\u001b[0m\u001b[0m\n\u001b[1;32m----> 5\u001b[1;33m         \u001b[0mc\u001b[0m\u001b[1;33m=\u001b[0m\u001b[1;33m(\u001b[0m\u001b[1;33m(\u001b[0m\u001b[0ma\u001b[0m\u001b[1;33m+\u001b[0m\u001b[0mb\u001b[0m\u001b[1;33m)\u001b[0m\u001b[1;33m/\u001b[0m\u001b[1;33m(\u001b[0m\u001b[0ma\u001b[0m\u001b[1;33m-\u001b[0m\u001b[0mb\u001b[0m\u001b[1;33m)\u001b[0m\u001b[1;33m)\u001b[0m\u001b[1;33m\u001b[0m\u001b[1;33m\u001b[0m\u001b[0m\n\u001b[0m\u001b[0;32m      6\u001b[0m     \u001b[1;32mexcept\u001b[0m \u001b[0mZeroDivisionError\u001b[0m\u001b[1;33m:\u001b[0m\u001b[1;33m\u001b[0m\u001b[1;33m\u001b[0m\u001b[0m\n\u001b[0;32m      7\u001b[0m         \u001b[0mprint\u001b[0m\u001b[1;33m(\u001b[0m\u001b[1;34m'Division by zero'\u001b[0m\u001b[1;33m)\u001b[0m\u001b[1;33m\u001b[0m\u001b[1;33m\u001b[0m\u001b[0m\n",
      "\u001b[1;31mTypeError\u001b[0m: can only concatenate str (not \"int\") to str"
     ]
    }
   ],
   "source": [
    "#3. Function which returns c where c = ((a+b) / (a-b)) for arguments a,b add \n",
    "#try to handle all the type of exceptions\n",
    "def check(a,b):\n",
    "    try:\n",
    "        c=((a+b)/(a-b))\n",
    "    except ZeroDivisionError:\n",
    "        print('Division by zero')\n",
    "    else:\n",
    "        print('Result =>',c)\n",
    "    finally:\n",
    "        print('executing finally clause')\n",
    "check(2,2)\n",
    "check(2,1)\n",
    "check('2',2)"
   ]
  },
  {
   "cell_type": "code",
   "execution_count": 60,
   "id": "1d951df2",
   "metadata": {},
   "outputs": [
    {
     "ename": "NameError",
     "evalue": "name 'b' is not defined",
     "output_type": "error",
     "traceback": [
      "\u001b[1;31m---------------------------------------------------------------------------\u001b[0m",
      "\u001b[1;31mNameError\u001b[0m                                 Traceback (most recent call last)",
      "\u001b[1;32m<ipython-input-60-bbc8cbd6f375>\u001b[0m in \u001b[0;36m<module>\u001b[1;34m\u001b[0m\n\u001b[1;32m----> 1\u001b[1;33m \u001b[0mcheck\u001b[0m\u001b[1;33m(\u001b[0m\u001b[0ma\u001b[0m\u001b[1;33m,\u001b[0m\u001b[0mb\u001b[0m\u001b[1;33m)\u001b[0m\u001b[1;33m\u001b[0m\u001b[1;33m\u001b[0m\u001b[0m\n\u001b[0m",
      "\u001b[1;31mNameError\u001b[0m: name 'b' is not defined"
     ]
    }
   ],
   "source": [
    "check(a,b)"
   ]
  },
  {
   "cell_type": "code",
   "execution_count": 54,
   "id": "42bfafae",
   "metadata": {},
   "outputs": [
    {
     "ename": "ImportError",
     "evalue": "cannot import name 'pyt' from 'pkg' (C:\\Users\\AMAN\\Desktop\\00001\\002.Assignments(python int)\\pkg\\__init__.py)",
     "output_type": "error",
     "traceback": [
      "\u001b[1;31m---------------------------------------------------------------------------\u001b[0m",
      "\u001b[1;31mImportError\u001b[0m                               Traceback (most recent call last)",
      "\u001b[1;32m<ipython-input-54-7184057306e3>\u001b[0m in \u001b[0;36m<module>\u001b[1;34m\u001b[0m\n\u001b[0;32m      2\u001b[0m \u001b[1;31m#a. Import Error\u001b[0m\u001b[1;33m\u001b[0m\u001b[1;33m\u001b[0m\u001b[1;33m\u001b[0m\u001b[0m\n\u001b[0;32m      3\u001b[0m \u001b[1;31m#raise ImportError\u001b[0m\u001b[1;33m\u001b[0m\u001b[1;33m\u001b[0m\u001b[1;33m\u001b[0m\u001b[0m\n\u001b[1;32m----> 4\u001b[1;33m \u001b[1;32mfrom\u001b[0m \u001b[0mpkg\u001b[0m \u001b[1;32mimport\u001b[0m \u001b[0mpyt\u001b[0m\u001b[1;33m\u001b[0m\u001b[1;33m\u001b[0m\u001b[0m\n\u001b[0m\u001b[0;32m      5\u001b[0m \u001b[0mpyt1\u001b[0m\u001b[1;33m.\u001b[0m\u001b[0mpalindrome1\u001b[0m\u001b[1;33m(\u001b[0m\u001b[1;34m'121'\u001b[0m\u001b[1;33m)\u001b[0m\u001b[1;33m\u001b[0m\u001b[1;33m\u001b[0m\u001b[0m\n",
      "\u001b[1;31mImportError\u001b[0m: cannot import name 'pyt' from 'pkg' (C:\\Users\\AMAN\\Desktop\\00001\\002.Assignments(python int)\\pkg\\__init__.py)"
     ]
    }
   ],
   "source": [
    "#4. Write a program to show and handle following exceptions: \n",
    "#a. Import Error\n",
    "#raise ImportError\n",
    "from pkg import pyt\n",
    "pyt1.palindrome1('121')"
   ]
  },
  {
   "cell_type": "code",
   "execution_count": 50,
   "id": "2895da97",
   "metadata": {},
   "outputs": [
    {
     "name": "stdout",
     "output_type": "stream",
     "text": [
      "Enter a number=> e\n"
     ]
    },
    {
     "ename": "ValueError",
     "evalue": "invalid literal for int() with base 10: 'e'",
     "output_type": "error",
     "traceback": [
      "\u001b[1;31m---------------------------------------------------------------------------\u001b[0m",
      "\u001b[1;31mValueError\u001b[0m                                Traceback (most recent call last)",
      "\u001b[1;32m<ipython-input-50-80372da1c23b>\u001b[0m in \u001b[0;36m<module>\u001b[1;34m\u001b[0m\n\u001b[0;32m      1\u001b[0m \u001b[1;31m#b. Value Error\u001b[0m\u001b[1;33m\u001b[0m\u001b[1;33m\u001b[0m\u001b[1;33m\u001b[0m\u001b[0m\n\u001b[0;32m      2\u001b[0m \u001b[1;31m#raise ValueError\u001b[0m\u001b[1;33m\u001b[0m\u001b[1;33m\u001b[0m\u001b[1;33m\u001b[0m\u001b[0m\n\u001b[1;32m----> 3\u001b[1;33m \u001b[0mx\u001b[0m\u001b[1;33m=\u001b[0m\u001b[0mint\u001b[0m\u001b[1;33m(\u001b[0m\u001b[0minput\u001b[0m\u001b[1;33m(\u001b[0m\u001b[1;34m'Enter a number=> '\u001b[0m\u001b[1;33m)\u001b[0m\u001b[1;33m)\u001b[0m\u001b[1;33m\u001b[0m\u001b[1;33m\u001b[0m\u001b[0m\n\u001b[0m",
      "\u001b[1;31mValueError\u001b[0m: invalid literal for int() with base 10: 'e'"
     ]
    }
   ],
   "source": [
    "#b. Value Error\n",
    "#raise ValueError\n",
    "x=int(input('Enter a number=> '))"
   ]
  },
  {
   "cell_type": "code",
   "execution_count": 2,
   "id": "52a42995",
   "metadata": {},
   "outputs": [
    {
     "data": {
      "text/plain": [
       "True"
      ]
     },
     "execution_count": 2,
     "metadata": {},
     "output_type": "execute_result"
    }
   ],
   "source": [
    "from pkg import pyt1\n",
    "pyt1.palindrome1('121')"
   ]
  },
  {
   "cell_type": "code",
   "execution_count": 1,
   "id": "a0e79c75",
   "metadata": {},
   "outputs": [
    {
     "name": "stdout",
     "output_type": "stream",
     "text": [
      "Enter the coordinates of center and radius of 1st cicle (x1 y1 r1) :: 0 0 2\n",
      "Enter the coordinates of center and radius of 2nd cicle (x2 y2 r2) :: 0 0 3\n",
      "Circle not intersect to each other.\n"
     ]
    }
   ],
   "source": [
    "from pkg import pyt1\n",
    "c1 = input(\"Enter the coordinates of center and radius of 1st cicle (x1 y1 r1) :: \").split( )\n",
    "c2 = input(\"Enter the coordinates of center and radius of 2nd cicle (x2 y2 r2) :: \").split( )\n",
    "if int(c1[2]) < 0 or int(c2[2]) < 0:\n",
    "    print(\"You have entered a negative radius .\")\n",
    "else:\n",
    "    t =pyt1.circle(int(c1[0]),int(c1[1]),int(c2[0]),int(c2[1]),int(c1[2]),int(c2[2]))\n",
    "    if (t == 1):\n",
    "        print(\"Circle touch to each other.\")\n",
    "    elif (t < 0):\n",
    "        print(\"Circle not intersect to each other.\")\n",
    "    else:\n",
    "        print(\"Circle intersect to each other.\")"
   ]
  },
  {
   "cell_type": "code",
   "execution_count": 9,
   "id": "707b43b3",
   "metadata": {},
   "outputs": [],
   "source": [
    "file=open('abc.txt','x')\n",
    "file.write('Good\\n')\n",
    "file.write('\\n')\n",
    "file.write('Morning')\n",
    "file.close()"
   ]
  },
  {
   "cell_type": "code",
   "execution_count": 15,
   "id": "213b2248",
   "metadata": {},
   "outputs": [
    {
     "name": "stdout",
     "output_type": "stream",
     "text": [
      "{'Om': {'key': 'Om', 'age': 21, 'pay': 400}, 'Am': {'key': 'Am', 'age': 22, 'pay': 440}}\n",
      "Om => {'key': 'Om', 'age': 21, 'pay': 400}\n",
      "Am => {'key': 'Am', 'age': 22, 'pay': 440}\n"
     ]
    }
   ],
   "source": [
    "import pickle\n",
    "def storeData():\n",
    "    Om={'key':'Om','age':21,'pay':400}\n",
    "    Am={'key':'Am','age':22,'pay':440}\n",
    "    \n",
    "    db={}\n",
    "    db['Om']=Om\n",
    "    db['Am']=Am\n",
    "    print(db)\n",
    "    #important to use binary mode\n",
    "    dbf=open('example.pkl','wb')\n",
    "    \n",
    "    #source,destination\n",
    "    pickle.dump(db,dbf)\n",
    "    dbf.close()\n",
    "\n",
    "def loadData():\n",
    "    #for reading also binary mode is important\n",
    "    dbf=open('example.pkl','rb')\n",
    "    db=pickle.load(dbf)\n",
    "    for keys in db:\n",
    "        print(keys,'=>',db[keys])\n",
    "    dbf.close()\n",
    "    \n",
    "storeData()\n",
    "loadData()  "
   ]
  },
  {
   "cell_type": "code",
   "execution_count": 1,
   "id": "f9ffb560",
   "metadata": {},
   "outputs": [
    {
     "name": "stdout",
     "output_type": "stream",
     "text": [
      "4\n"
     ]
    }
   ],
   "source": [
    "from pkg.s_pkg1 import s_pyt1\n",
    "s_pyt1.check(8)"
   ]
  },
  {
   "cell_type": "code",
   "execution_count": 2,
   "id": "aaa1fd0f",
   "metadata": {},
   "outputs": [
    {
     "data": {
      "text/plain": [
       "True"
      ]
     },
     "execution_count": 2,
     "metadata": {},
     "output_type": "execute_result"
    }
   ],
   "source": [
    "from pkg import pyt1\n",
    "pyt1.palindrome1('1234321')"
   ]
  }
 ],
 "metadata": {
  "kernelspec": {
   "display_name": "Python 3",
   "language": "python",
   "name": "python3"
  },
  "language_info": {
   "codemirror_mode": {
    "name": "ipython",
    "version": 3
   },
   "file_extension": ".py",
   "mimetype": "text/x-python",
   "name": "python",
   "nbconvert_exporter": "python",
   "pygments_lexer": "ipython3",
   "version": "3.8.8"
  }
 },
 "nbformat": 4,
 "nbformat_minor": 5
}
