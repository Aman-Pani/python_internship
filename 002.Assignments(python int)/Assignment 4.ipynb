{
 "cells": [
  {
   "cell_type": "markdown",
   "id": "6c4f828f",
   "metadata": {},
   "source": [
    "# Q1.Check the string is palindrome"
   ]
  },
  {
   "cell_type": "code",
   "execution_count": 17,
   "id": "16e60ba9",
   "metadata": {},
   "outputs": [
    {
     "name": "stdout",
     "output_type": "stream",
     "text": [
      "Enter a string =>jkl\n",
      "#Not_Palindrome\n"
     ]
    }
   ],
   "source": [
    "a=input(\"Enter a string =>\") \n",
    "if a==a[::-1]:print(\"#Palindrome\")\n",
    "else:print(\"#Not_Palindrome\")"
   ]
  },
  {
   "cell_type": "code",
   "execution_count": 2,
   "id": "db778bdd",
   "metadata": {},
   "outputs": [
    {
     "name": "stdout",
     "output_type": "stream",
     "text": [
      "Enter a string :: hgh\n",
      "it is a pallindrome\n"
     ]
    }
   ],
   "source": [
    "str = input(\"Enter a string :: \")\n",
    "str = str.lower()\n",
    "c = 0 \n",
    "for i in range (0,(len(str) // 2) + 1 ) :\n",
    "    if str[i] == str[len(str) - 1 - i ]:\n",
    "        c += 1\n",
    "    else : \n",
    "        c = c - 1\n",
    "if c == (len(str) // 2 + 1) :\n",
    "    print(\"it is a pallindrome\")\n",
    "else :\n",
    "    print(\"it is not a pallindrome\")"
   ]
  },
  {
   "cell_type": "code",
   "execution_count": 41,
   "id": "61f850a0",
   "metadata": {},
   "outputs": [
    {
     "name": "stdout",
     "output_type": "stream",
     "text": [
      "Enter a string =>bnmjk\n",
      "#Not_Palindrome\n"
     ]
    }
   ],
   "source": [
    "a=input('Enter a string =>') \n",
    "if list(a)==list(reversed(a)):print(\"#Palindrome\")\n",
    "else:print(\"#Not_Palindrome\")"
   ]
  },
  {
   "cell_type": "markdown",
   "id": "222cdc56",
   "metadata": {},
   "source": [
    "# Q2.Input a string & capitalize it"
   ]
  },
  {
   "cell_type": "code",
   "execution_count": 44,
   "id": "db013ba8",
   "metadata": {},
   "outputs": [
    {
     "name": "stdout",
     "output_type": "stream",
     "text": [
      "Enter a string => nsdckdncc kcd kd \n",
      "Enter a string => dabcbabcas kc sckj qcdqe q\n",
      "Out-put string => NSDCKDNCC KCD KD \n",
      "Out-put string => DABCBABCAS KC SCKJ QCDQE Q\n"
     ]
    }
   ],
   "source": [
    "a=input(\"Enter a string => \") \n",
    "b=input(\"Enter a string => \")\n",
    "print(\"Out-put string =>\",a.upper())\n",
    "print(\"Out-put string =>\",b.upper())"
   ]
  },
  {
   "cell_type": "markdown",
   "id": "a3ee4ade",
   "metadata": {},
   "source": [
    "# Q3.Find consonant in a string"
   ]
  },
  {
   "cell_type": "code",
   "execution_count": 17,
   "id": "5be2162a",
   "metadata": {},
   "outputs": [
    {
     "name": "stdout",
     "output_type": "stream",
     "text": [
      "Enter a string: sdjask sadjasdj asdjasdjsa sd\n",
      "Consonants in string are :\n",
      "s d j s k s d j s d j s d j s d j s s d "
     ]
    }
   ],
   "source": [
    "a=input(\"Enter a string: \")\n",
    "print(\"Consonants in string are :\")\n",
    "for i in range (len(a)):\n",
    "    if   a[i]=='a'or a[i]=='A':continue\n",
    "    elif a[i]=='e'or a[i]=='E':continue \n",
    "    elif a[i]=='i'or a[i]=='I':continue\n",
    "    elif a[i]=='o'or a[i]=='O':continue\n",
    "    elif a[i]=='u'or a[i]=='U':continue\n",
    "    elif a[i]==' ':continue\n",
    "    else :print(a[i],end =\" \")"
   ]
  },
  {
   "cell_type": "code",
   "execution_count": 24,
   "id": "e51a629b",
   "metadata": {},
   "outputs": [
    {
     "name": "stdout",
     "output_type": "stream",
     "text": [
      "Enter a string: aman\n",
      "Consonants in the string =>aman are: \n",
      "m n "
     ]
    }
   ],
   "source": [
    "a=input(\"Enter a string: \")\n",
    "print(f\"Consonants in the string =>{a} are: \")\n",
    "for i in a:\n",
    "    if i not in\"AEIOUaeiou \":\n",
    "        print(i,end=\" \")"
   ]
  },
  {
   "cell_type": "markdown",
   "id": "a0247fa9",
   "metadata": {},
   "source": [
    "# Q4.Perfect square or not"
   ]
  },
  {
   "cell_type": "code",
   "execution_count": 44,
   "id": "c56ca91e",
   "metadata": {},
   "outputs": [
    {
     "name": "stdout",
     "output_type": "stream",
     "text": [
      "Enter a number: 121\n",
      "121 is a perfect square\n"
     ]
    }
   ],
   "source": [
    "a=int(input(\"Enter a number: \"))\n",
    "import math\n",
    "b=math.sqrt(a)\n",
    "if b==int(b):print(f\"{a} is a perfect square.\")\n",
    "else        :print(f\"{a} is not a perfect square.\")"
   ]
  },
  {
   "cell_type": "code",
   "execution_count": 18,
   "id": "b9638e23",
   "metadata": {
    "scrolled": true
   },
   "outputs": [
    {
     "name": "stdout",
     "output_type": "stream",
     "text": [
      "Enter the number of rows: 4\n",
      "* * * *  \n",
      "* * *  \n",
      "* *  \n",
      "*  \n",
      " \n"
     ]
    }
   ],
   "source": [
    "#pyramid pattern \n",
    "rows = int(input(\"Enter the number of rows: \"))  \n",
    "for i in range(rows+1, 0, -1):    \n",
    "    for j in range(0, i - 1):  \n",
    "        print(\"*\", end=' ')  \n",
    "    print(\" \")"
   ]
  },
  {
   "cell_type": "code",
   "execution_count": 37,
   "id": "1be71391",
   "metadata": {},
   "outputs": [
    {
     "name": "stdout",
     "output_type": "stream",
     "text": [
      "* * * *   \n",
      "*       * \n",
      "*       * \n",
      "* * * *   \n",
      "*       * \n",
      "*       * \n",
      "*       * \n"
     ]
    }
   ],
   "source": [
    "#R in star pattern\n",
    "for row in range (7):\n",
    "    for col in range (5):\n",
    "        if col==0 or (col==4 and (row!=0 and row!=3)) or ((row==0 or row==3) and (col>0 and col<4)):\n",
    "            print(\"*\",end=\" \")\n",
    "        else:\n",
    "            print(end=\"  \")\n",
    "    print()\n",
    "#row!=0 and row!=3"
   ]
  },
  {
   "cell_type": "code",
   "execution_count": 35,
   "id": "ec31fd2c",
   "metadata": {},
   "outputs": [
    {
     "name": "stdout",
     "output_type": "stream",
     "text": [
      "Enter the number of rows: 5\n",
      "*  \n",
      "*  *  \n",
      "*  *  *  \n",
      "*  *  *  *  \n",
      "*  *  *  *  *  \n",
      "*  *  *  *  \n",
      "*  *  *  \n",
      "*  *  \n",
      "*  \n"
     ]
    }
   ],
   "source": [
    "rows = int(input(\"Enter the number of rows: \")  )\n",
    "for i in range(0, rows):  \n",
    "    for j in range(0, i + 1):  \n",
    "        print(\"* \", end=' ')  \n",
    "    print( )  \n",
    "# For second pattern  \n",
    "for i in range(rows ,1, -1):  \n",
    "    for j in range(1,i):  \n",
    "        print(\"* \", end=' ')  \n",
    "    print( )"
   ]
  },
  {
   "cell_type": "code",
   "execution_count": 13,
   "id": "6b5781c1",
   "metadata": {
    "scrolled": true
   },
   "outputs": [
    {
     "name": "stdout",
     "output_type": "stream",
     "text": [
      "oaeiu\n",
      "oiaue\n",
      "iuaeo\n",
      "uiaeo\n",
      "ouiae\n"
     ]
    }
   ],
   "source": [
    "import random\n",
    "char_list = ['a','e','i','o','u']\n",
    "for i in range (5):\n",
    "    random.shuffle(char_list)\n",
    "    print(''.join(char_list))"
   ]
  },
  {
   "cell_type": "code",
   "execution_count": 56,
   "id": "84a484c0",
   "metadata": {},
   "outputs": [
    {
     "name": "stdout",
     "output_type": "stream",
     "text": [
      "* * * * * \n",
      "    *     \n",
      "    *     \n",
      "    *     \n",
      "    *     \n",
      "    *     \n",
      "    *     \n"
     ]
    }
   ],
   "source": [
    "for row in range (7):\n",
    "    for col in range (5):\n",
    "        if row==0 or col==2:\n",
    "            print(\"*\",end=\" \")\n",
    "        else:\n",
    "            print(end=\"  \")\n",
    "    print()"
   ]
  },
  {
   "cell_type": "code",
   "execution_count": 58,
   "id": "8f7a2538",
   "metadata": {},
   "outputs": [
    {
     "ename": "SyntaxError",
     "evalue": "'continue' not properly in loop (<ipython-input-58-6e296ba414f1>, line 3)",
     "output_type": "error",
     "traceback": [
      "\u001b[1;36m  File \u001b[1;32m\"<ipython-input-58-6e296ba414f1>\"\u001b[1;36m, line \u001b[1;32m3\u001b[0m\n\u001b[1;33m    continue\u001b[0m\n\u001b[1;37m    ^\u001b[0m\n\u001b[1;31mSyntaxError\u001b[0m\u001b[1;31m:\u001b[0m 'continue' not properly in loop\n"
     ]
    }
   ],
   "source": [
    "a='aman'\n",
    "if 'a' in a:\n",
    "    continue\n",
    "print(a)"
   ]
  }
 ],
 "metadata": {
  "kernelspec": {
   "display_name": "Python 3",
   "language": "python",
   "name": "python3"
  },
  "language_info": {
   "codemirror_mode": {
    "name": "ipython",
    "version": 3
   },
   "file_extension": ".py",
   "mimetype": "text/x-python",
   "name": "python",
   "nbconvert_exporter": "python",
   "pygments_lexer": "ipython3",
   "version": "3.8.8"
  }
 },
 "nbformat": 4,
 "nbformat_minor": 5
}
