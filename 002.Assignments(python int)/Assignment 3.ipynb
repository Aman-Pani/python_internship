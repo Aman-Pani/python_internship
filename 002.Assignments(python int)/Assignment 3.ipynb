{
 "cells": [
  {
   "cell_type": "markdown",
   "id": "8c19b0f7",
   "metadata": {},
   "source": [
    "# Q1.Find number of alphabets in a string"
   ]
  },
  {
   "cell_type": "code",
   "execution_count": 2,
   "id": "3896f69d",
   "metadata": {},
   "outputs": [
    {
     "name": "stdout",
     "output_type": "stream",
     "text": [
      "Enter a string=> bmjb61354v nb  36136;l/\n",
      "Number of alphabets =>  8\n"
     ]
    }
   ],
   "source": [
    "a=str(input(\"Enter a string=> \"))\n",
    "count=0\n",
    "for i in a:\n",
    "    if i.isalpha():\n",
    "        count+=1\n",
    "print(\"Number of alphabets => \",count)"
   ]
  },
  {
   "cell_type": "markdown",
   "id": "258f6fec",
   "metadata": {},
   "source": [
    "# Q2.Enter two strings & print the output with maximum length.If two strings have same libgth ,then print strings line by line"
   ]
  },
  {
   "cell_type": "code",
   "execution_count": 13,
   "id": "ae6ce261",
   "metadata": {},
   "outputs": [
    {
     "name": "stdout",
     "output_type": "stream",
     "text": [
      "Enter 1st string=> fhuguk456\n",
      "Enter 2nd string=> 813\n",
      "Largest string=>  fhuguk456\n"
     ]
    }
   ],
   "source": [
    "a=str(input(\"Enter 1st string=> \"))\n",
    "b=str(input(\"Enter 2nd string=> \"))\n",
    "c=\"Largest string=> \"\n",
    "if len(a)>len(b):\n",
    "    print(c,a)\n",
    "elif len(b)>len(a):\n",
    "    print(c,b)\n",
    "else:\n",
    "    print(\"Both are of same lenght.\\n=>{} \\n=>{}\".format(a,b))"
   ]
  },
  {
   "cell_type": "markdown",
   "id": "67311aa6",
   "metadata": {},
   "source": [
    "# Q3.Leap year"
   ]
  },
  {
   "cell_type": "code",
   "execution_count": 8,
   "id": "e35bd29d",
   "metadata": {},
   "outputs": [
    {
     "name": "stdout",
     "output_type": "stream",
     "text": [
      "Enter the year=> 2012\n",
      " =>It's a leap year\n"
     ]
    }
   ],
   "source": [
    "y=int(input(\"Enter the year=> \"))\n",
    "if y%4==0 and y%100!=0 or y%400==0:\n",
    "    print(\" =>It's a leap year\")\n",
    "else:\n",
    "    print(\" =>It's not a leap year\")"
   ]
  },
  {
   "cell_type": "markdown",
   "id": "c651912e",
   "metadata": {},
   "source": [
    "# Q4.Calculate number of letters and digits in a given string"
   ]
  },
  {
   "cell_type": "code",
   "execution_count": 11,
   "id": "3b1d7fb9",
   "metadata": {},
   "outputs": [
    {
     "name": "stdout",
     "output_type": "stream",
     "text": [
      "Enter a string=> 456jijh86nu' 5465 kjkm'] 4564\n",
      "Number of letters =>  10\n",
      "Number of digits  =>  13\n"
     ]
    }
   ],
   "source": [
    "a=str(input(\"Enter a string=> \"))\n",
    "cnt1=0\n",
    "cnt2=0\n",
    "for i in a:\n",
    "    if i.isalpha():\n",
    "        cnt1 +=1\n",
    "    elif i.isdigit():\n",
    "        cnt2 +=1\n",
    "print(\"Number of letters => \",cnt1)\n",
    "print(\"Number of digits  => \",cnt2)"
   ]
  }
 ],
 "metadata": {
  "kernelspec": {
   "display_name": "Python 3",
   "language": "python",
   "name": "python3"
  },
  "language_info": {
   "codemirror_mode": {
    "name": "ipython",
    "version": 3
   },
   "file_extension": ".py",
   "mimetype": "text/x-python",
   "name": "python",
   "nbconvert_exporter": "python",
   "pygments_lexer": "ipython3",
   "version": "3.8.8"
  }
 },
 "nbformat": 4,
 "nbformat_minor": 5
}
