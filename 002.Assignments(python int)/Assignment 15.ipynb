{
 "cells": [
  {
   "cell_type": "markdown",
   "id": "52ba7636",
   "metadata": {},
   "source": [
    " 1. Write a Python program for sequential search. Sequential search is a method for finding a particular \n",
    "value in a list that checks each element in sequence until the desired element is found or the list is \n",
    "exhausted. The list need not be ordered.\n",
    "Test Data :\n",
    "Sequential_Search([11,23,58,31,56,77,43,12,65,19],31) -> (True, 3)\n"
   ]
  },
  {
   "cell_type": "code",
   "execution_count": 3,
   "id": "e662a78d",
   "metadata": {},
   "outputs": [
    {
     "name": "stdout",
     "output_type": "stream",
     "text": [
      "Enter elements => 5 4 6 1 3\n",
      "Enter number to be searched=> 1\n",
      "Element is present at index 3\n"
     ]
    }
   ],
   "source": [
    "from pkg import pyt1\n",
    "\n",
    "lst = input(\"Enter elements => \").split( )\n",
    "lst = [int(j) for j in lst]\n",
    "num = int(input('Enter number to be searched=> '))\n",
    "pyt1.Sequential_search(lst,num)"
   ]
  },
  {
   "cell_type": "markdown",
   "id": "a3fe6d32",
   "metadata": {},
   "source": [
    "2. Write a Python program to sort an unsorted array numbers using Wiggle sort. Given an unsorted \n",
    "array nums, reorder it in-place such that nums[0] <= nums[1] >= nums[2] <= nums[3]....\n",
    "For example, given nums = [3, 5, 2, 1, 6, 4], one possible answer is [1, 6, 2, 5, 3, 4].\n"
   ]
  },
  {
   "cell_type": "code",
   "execution_count": 1,
   "id": "49cb8006",
   "metadata": {},
   "outputs": [
    {
     "name": "stdout",
     "output_type": "stream",
     "text": [
      "Enter elements => 4 6 5 1 3\n",
      "The unsorted array is ::  [4, 6, 5, 1, 3]\n",
      "Array after Wiggle sort: [3, 6, 1, 5, 4]\n"
     ]
    }
   ],
   "source": [
    "from pkg import pyt1\n",
    "\n",
    "array = input(\"Enter elements => \").split( )\n",
    "array = [int(j) for j in array]\n",
    "print(\"The unsorted array is :: \",array)\n",
    "pyt1.wiggle_sort(array)\n",
    "print(\"Array after Wiggle sort:\",array)"
   ]
  },
  {
   "cell_type": "markdown",
   "id": "a3cd46a6",
   "metadata": {},
   "source": [
    "3. Write a Python program to sort a list of elements using the insertion sort algorithm.\n",
    "Insertion sort is a simple sorting algorithm that builds the final sorted array (or list) one item at a time. It is much less \n",
    "efficient on large lists than more advanced algorithms such as quicksort, heapsort, or merge sort.\n",
    "Sample Data: [14,46,43,27,57,41,45,21,70]\n",
    "Expected Result : [14, 21, 27, 41, 43, 45, 46, 57, 70]"
   ]
  },
  {
   "cell_type": "code",
   "execution_count": 1,
   "id": "78bcd3ef",
   "metadata": {},
   "outputs": [
    {
     "name": "stdout",
     "output_type": "stream",
     "text": [
      "Enter elements => 5 4 6\n",
      "The unsorted list is: [5, 4, 6]\n",
      "The sorted list1 is: [4, 5, 6]\n"
     ]
    }
   ],
   "source": [
    "from pkg import pyt1\n",
    "            \n",
    "list = input(\"Enter elements => \").split( )  \n",
    "list1 = [int(i) for i in list]\n",
    "print(\"The unsorted list is:\", list1)  \n",
    "print(\"The sorted list1 is:\", pyt1.insertion_sort(list1))"
   ]
  },
  {
   "cell_type": "code",
   "execution_count": null,
   "id": "f753c50b",
   "metadata": {},
   "outputs": [],
   "source": []
  },
  {
   "cell_type": "code",
   "execution_count": null,
   "id": "77933ff2",
   "metadata": {},
   "outputs": [],
   "source": []
  },
  {
   "cell_type": "code",
   "execution_count": null,
   "id": "40d73494",
   "metadata": {},
   "outputs": [],
   "source": []
  },
  {
   "cell_type": "code",
   "execution_count": null,
   "id": "afb4ee5c",
   "metadata": {},
   "outputs": [],
   "source": []
  },
  {
   "cell_type": "code",
   "execution_count": null,
   "id": "71855df4",
   "metadata": {},
   "outputs": [],
   "source": []
  },
  {
   "cell_type": "code",
   "execution_count": null,
   "id": "942944c6",
   "metadata": {},
   "outputs": [],
   "source": []
  },
  {
   "cell_type": "code",
   "execution_count": null,
   "id": "86031b72",
   "metadata": {},
   "outputs": [],
   "source": []
  },
  {
   "cell_type": "code",
   "execution_count": 2,
   "id": "55fba48c",
   "metadata": {},
   "outputs": [
    {
     "name": "stdout",
     "output_type": "stream",
     "text": [
      "Enter elements => 3 5 2 1 6 4\n",
      "The unsorted array is ::  [3, 5, 2, 1, 6, 4]\n",
      "Array after Wiggle sort: [3, 5, 1, 6, 2, 4]\n"
     ]
    }
   ],
   "source": [
    "def wiggle_sort(nums):\n",
    "    for i in range(len(nums)):\n",
    "        if (i % 2 == 1) == (nums[i - 1] > nums[i]):\n",
    "            nums[i - 1], nums[i] = nums[i], nums[i - 1]\n",
    "array = input(\"Enter elements => \").split( )\n",
    "array = [int(j) for j in array]\n",
    "print(\"The unsorted array is :: \",array)\n",
    "wiggle_sort(array)\n",
    "print(\"Array after Wiggle sort:\",array)"
   ]
  }
 ],
 "metadata": {
  "kernelspec": {
   "display_name": "Python 3",
   "language": "python",
   "name": "python3"
  },
  "language_info": {
   "codemirror_mode": {
    "name": "ipython",
    "version": 3
   },
   "file_extension": ".py",
   "mimetype": "text/x-python",
   "name": "python",
   "nbconvert_exporter": "python",
   "pygments_lexer": "ipython3",
   "version": "3.8.8"
  }
 },
 "nbformat": 4,
 "nbformat_minor": 5
}
