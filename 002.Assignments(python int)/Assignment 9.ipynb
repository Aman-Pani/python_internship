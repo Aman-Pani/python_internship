{
 "cells": [
  {
   "cell_type": "code",
   "execution_count": 21,
   "id": "25cdfb5f",
   "metadata": {},
   "outputs": [
    {
     "name": "stdout",
     "output_type": "stream",
     "text": [
      "73\n"
     ]
    }
   ],
   "source": [
    "#Q1. Create an add function that is agnostic to number of inputs \n",
    "def summ(numbers):\n",
    "    total = 0\n",
    "    for x in numbers:\n",
    "        total += x\n",
    "    return total\n",
    "print(summ((8, 25, 3, 10, 27)))\n",
    "#6Y5F2f"
   ]
  },
  {
   "cell_type": "code",
   "execution_count": null,
   "id": "55b5cd1d",
   "metadata": {},
   "outputs": [],
   "source": []
  },
  {
   "cell_type": "code",
   "execution_count": 13,
   "id": "23ffba30",
   "metadata": {},
   "outputs": [
    {
     "name": "stdout",
     "output_type": "stream",
     "text": [
      "73\n"
     ]
    }
   ],
   "source": [
    "def summ(*numbers):\n",
    "    total = 0\n",
    "    for x in numbers:\n",
    "        total += x\n",
    "    return total\n",
    "\n",
    "print(summ(8, 25, 3, 10, 27))"
   ]
  },
  {
   "cell_type": "code",
   "execution_count": 14,
   "id": "ce26656c",
   "metadata": {},
   "outputs": [
    {
     "name": "stdout",
     "output_type": "stream",
     "text": [
      "Enter the number of elements:5\n",
      "Enter elements:\n",
      "3\n",
      "2\n",
      "4\n",
      "5\n",
      "1\n",
      "15\n"
     ]
    }
   ],
   "source": [
    "def listsum():\n",
    "    c=0\n",
    "    for i in range(0,len(l)+1):\n",
    "        c+=i\n",
    "    print(c)\n",
    "\n",
    "l=[]\n",
    "\n",
    "lim=int(input(\"Enter the number of elements:\"))\n",
    "print(\"Enter elements:\")\n",
    "for i in range(0,lim):\n",
    "    ele=int(input())\n",
    "    l.append(ele)\n",
    "\n",
    "listsum()"
   ]
  },
  {
   "cell_type": "code",
   "execution_count": 12,
   "id": "0a03a922",
   "metadata": {},
   "outputs": [
    {
     "name": "stdout",
     "output_type": "stream",
     "text": [
      "Enter Numbers To Add : 5 1 6 2 3\n",
      "None\n",
      "Sum =  17\n"
     ]
    }
   ],
   "source": [
    "def add(a) :\n",
    "    Sum = 0\n",
    "    for i in a :\n",
    "        Sum = Sum + int(i)\n",
    "    return Sum\n",
    "List = input(\"Enter Numbers To Add : \").split( )\n",
    "Sum = add(List)\n",
    "print(\"Sum = \", Sum)"
   ]
  },
  {
   "cell_type": "code",
   "execution_count": 3,
   "id": "7df08e5e",
   "metadata": {},
   "outputs": [
    {
     "name": "stdout",
     "output_type": "stream",
     "text": [
      "Enter the number of rows :: 3\n",
      "Enter the number of columns :: 4\n",
      "Enter the entries rowwise :: \n",
      "a\n",
      "b\n",
      "c\n",
      "d\n",
      "e\n",
      "f\n",
      "g\n",
      "h\n",
      "i\n",
      "j\n",
      "k\n",
      "l\n",
      "Your Entered matrix is :: \n",
      "a b c d \n",
      "e f g h \n",
      "i j k l \n",
      "Enter the element u want to search :: h\n",
      "Element is present .\n",
      "The index is ::  (1, 3)\n"
     ]
    }
   ],
   "source": [
    "#Q2. run the code below to generate a matrix\n",
    "#table = [list(\"abcd\"),list(\"efgh\"),list(\"ijkl\")] \n",
    "#take an input character as target \n",
    "#print the row index and column index if the character is found\n",
    "#Else print \"Not found\"\n",
    "#Input  Enter Target character : h\n",
    "#Output 2 4\n",
    "R = int(input(\"Enter the number of rows :: \"))\n",
    "C = int(input(\"Enter the number of columns :: \"))\n",
    "matrix = []\n",
    "print(\"Enter the entries rowwise :: \")\n",
    "for i in range(R):          #  for loop for row entries\n",
    "    a =[]\n",
    "    for j in range(C):      #  for loop for column entries\n",
    "        a.append(input())\n",
    "    matrix.append(a)\n",
    "print(\"Your Entered matrix is :: \")\n",
    "for i in range(R):\n",
    "    for j in range(C):\n",
    "        print(matrix[i][j], end = \" \")\n",
    "    print()\n",
    "ele = input(\"Enter the element u want to search :: \")\n",
    "o1,o2 = 0,0\n",
    "z = 0\n",
    "for i in range(R):\n",
    "    for j in range(C):\n",
    "        if ele == matrix[i][j]:\n",
    "            o1,o2 = i,j\n",
    "            z += 1\n",
    "        else:\n",
    "            continue\n",
    "if z == 1:\n",
    "    print(\"Element is present .\")\n",
    "    print(\"The index is :: \",(o1,o2))\n",
    "else :\n",
    "    print(\"Element is not present .\")\n",
    "    "
   ]
  },
  {
   "cell_type": "code",
   "execution_count": 2,
   "id": "9e398d81",
   "metadata": {},
   "outputs": [
    {
     "name": "stdout",
     "output_type": "stream",
     "text": [
      "Enter target character: h\n",
      "Object found at row 2 and column 4\n"
     ]
    }
   ],
   "source": [
    "table = [list(\"abcd\"),list(\"efgh\"),list(\"ijkl\")]\n",
    "target = input(\"Enter target character: \")\n",
    "c = 0\n",
    "for i,j in enumerate(table,1):\n",
    "    for k,l in enumerate(j):\n",
    "        if target in l:\n",
    "            c = k        \n",
    "    if target in j:\n",
    "        r = i\n",
    "        c+=1\n",
    "        print(\"Object found at row {} and column {}\".format(r,c))\n",
    "if c == 0:\n",
    "    print(\"Element not found\")"
   ]
  },
  {
   "cell_type": "code",
   "execution_count": 5,
   "id": "ec09d146",
   "metadata": {},
   "outputs": [
    {
     "name": "stdout",
     "output_type": "stream",
     "text": [
      "Enter a character to be searched=> h\n",
      "Position of given character=>  (2, 4)\n"
     ]
    }
   ],
   "source": [
    "table=[list(\"abcd\"),list(\"efgh\"),list(\"ijkl\")]\n",
    "#print(table)\n",
    "def pos(table):\n",
    "    ch=input(\"Enter a character to be searched=> \")\n",
    "\n",
    "    for i in range(1,4):\n",
    "        for j in range(1,5):\n",
    "            if(ch==table[i][j]):\n",
    "                return(i+1,j+1)\n",
    "    else:\n",
    "        return \"Not found\"\n",
    "print(\"Position of given character=> \",pos(table))"
   ]
  },
  {
   "cell_type": "code",
   "execution_count": 11,
   "id": "7cb6c37f",
   "metadata": {},
   "outputs": [
    {
     "name": "stdout",
     "output_type": "stream",
     "text": [
      "Enter the number of terms u want to get :: 5\n",
      "The fibonacci series is :: 0 1 1 2 3 "
     ]
    }
   ],
   "source": [
    "#Q3. Run a program to demonstrate Fibonacci through recursion\n",
    "def fibo(n):\n",
    "    print(\"The fibonacci series is ::\",end = \" \")\n",
    "    a = 0\n",
    "    b = 1\n",
    "    if n == 1:\n",
    "        print(a)\n",
    "    else:\n",
    "        print(a,end = \" \")\n",
    "        print(b,end = \" \")\n",
    "        for i in range(2,n):\n",
    "            c = a + b\n",
    "            a = b\n",
    "            b = c\n",
    "            print(c,end = \" \")\n",
    "n = int(input(\"Enter the number of terms u want to get :: \"))\n",
    "fibo(n)"
   ]
  },
  {
   "cell_type": "code",
   "execution_count": 7,
   "id": "31ac7d10",
   "metadata": {},
   "outputs": [
    {
     "name": "stdout",
     "output_type": "stream",
     "text": [
      "8\n"
     ]
    }
   ],
   "source": [
    "def Fibonacci(n):\n",
    "    if n < 0:\n",
    "        print(\"Incorrect input\")\n",
    "    elif n == 0:\n",
    "        return 0\n",
    "    elif n == 1 or n == 2:\n",
    "        return 1\n",
    "    else:\n",
    "        return Fibonacci(n-1) + Fibonacci(n-2)\n",
    "#n=int(input(''))\n",
    "print(Fibonacci(6))"
   ]
  },
  {
   "cell_type": "code",
   "execution_count": 10,
   "id": "2df16fc5",
   "metadata": {},
   "outputs": [
    {
     "name": "stdout",
     "output_type": "stream",
     "text": [
      "Enter nth number=> 5\n",
      "0 1 1 2 3 "
     ]
    }
   ],
   "source": [
    "def fib(n):\n",
    "    if n<=1: return n\n",
    "    else   : return(fib(n-1)+fib(n-2))\n",
    "a=int(input('Enter nth number=> '))\n",
    "for i in range(a):\n",
    "    print(fib(i),end=\" \")"
   ]
  },
  {
   "cell_type": "code",
   "execution_count": 6,
   "id": "b3e77c40",
   "metadata": {},
   "outputs": [
    {
     "name": "stdout",
     "output_type": "stream",
     "text": [
      "Enter a sentence :: aman is aman  ka ka is is\n",
      "['aman', 'is', 'aman', '', 'ka', 'ka', 'is', 'is']\n",
      "{'aman': 8, 'is': 6, '': 0, 'ka': 4}\n"
     ]
    }
   ],
   "source": [
    "#Q4. Take a sentence and output a dictionary with word as the key and number \n",
    "#    of characters in the word as value (Use dictionary comprehension)\n",
    "\n",
    "str = input(\"Enter a sentence :: \").split(\" \")\n",
    "print(str)\n",
    "DICT = {}\n",
    "list = []\n",
    "for i in str:\n",
    "    a = str.count(i)\n",
    "    if a > 1:\n",
    "        list.append((i, len(i) * a))\n",
    "    else:\n",
    "        list.append((i,len(i)))\n",
    "DICT = {i : j  for (i,j) in list if i not in DICT}\n",
    "print(DICT)"
   ]
  }
 ],
 "metadata": {
  "kernelspec": {
   "display_name": "Python 3",
   "language": "python",
   "name": "python3"
  },
  "language_info": {
   "codemirror_mode": {
    "name": "ipython",
    "version": 3
   },
   "file_extension": ".py",
   "mimetype": "text/x-python",
   "name": "python",
   "nbconvert_exporter": "python",
   "pygments_lexer": "ipython3",
   "version": "3.8.8"
  }
 },
 "nbformat": 4,
 "nbformat_minor": 5
}
